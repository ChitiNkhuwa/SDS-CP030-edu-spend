{
 "cells": [
  {
   "cell_type": "markdown",
   "id": "64d037ca",
   "metadata": {},
   "source": [
    "Importing Libraries"
   ]
  },
  {
   "cell_type": "code",
   "execution_count": 1,
   "id": "5a6ffa8f",
   "metadata": {},
   "outputs": [],
   "source": [
    "import numpy as np\n",
    "import matplotlib.pyplot as plt\n",
    "import pandas as pd\n",
    "import seaborn as sns\n"
   ]
  },
  {
   "cell_type": "code",
   "execution_count": 2,
   "id": "30494b49",
   "metadata": {},
   "outputs": [
    {
     "data": {
      "text/html": [
       "<div>\n",
       "<style scoped>\n",
       "    .dataframe tbody tr th:only-of-type {\n",
       "        vertical-align: middle;\n",
       "    }\n",
       "\n",
       "    .dataframe tbody tr th {\n",
       "        vertical-align: top;\n",
       "    }\n",
       "\n",
       "    .dataframe thead th {\n",
       "        text-align: right;\n",
       "    }\n",
       "</style>\n",
       "<table border=\"1\" class=\"dataframe\">\n",
       "  <thead>\n",
       "    <tr style=\"text-align: right;\">\n",
       "      <th></th>\n",
       "      <th>Country</th>\n",
       "      <th>City</th>\n",
       "      <th>University</th>\n",
       "      <th>Program</th>\n",
       "      <th>Level</th>\n",
       "      <th>Duration_Years</th>\n",
       "      <th>Tuition_USD</th>\n",
       "      <th>Living_Cost_Index</th>\n",
       "      <th>Rent_USD</th>\n",
       "      <th>Visa_Fee_USD</th>\n",
       "      <th>Insurance_USD</th>\n",
       "      <th>Exchange_Rate</th>\n",
       "    </tr>\n",
       "  </thead>\n",
       "  <tbody>\n",
       "    <tr>\n",
       "      <th>0</th>\n",
       "      <td>USA</td>\n",
       "      <td>Cambridge</td>\n",
       "      <td>Harvard University</td>\n",
       "      <td>Computer Science</td>\n",
       "      <td>Master</td>\n",
       "      <td>2.0</td>\n",
       "      <td>55400</td>\n",
       "      <td>83.5</td>\n",
       "      <td>2200</td>\n",
       "      <td>160</td>\n",
       "      <td>1500</td>\n",
       "      <td>1.00</td>\n",
       "    </tr>\n",
       "    <tr>\n",
       "      <th>1</th>\n",
       "      <td>UK</td>\n",
       "      <td>London</td>\n",
       "      <td>Imperial College London</td>\n",
       "      <td>Data Science</td>\n",
       "      <td>Master</td>\n",
       "      <td>1.0</td>\n",
       "      <td>41200</td>\n",
       "      <td>75.8</td>\n",
       "      <td>1800</td>\n",
       "      <td>485</td>\n",
       "      <td>800</td>\n",
       "      <td>0.79</td>\n",
       "    </tr>\n",
       "    <tr>\n",
       "      <th>2</th>\n",
       "      <td>Canada</td>\n",
       "      <td>Toronto</td>\n",
       "      <td>University of Toronto</td>\n",
       "      <td>Business Analytics</td>\n",
       "      <td>Master</td>\n",
       "      <td>2.0</td>\n",
       "      <td>38500</td>\n",
       "      <td>72.5</td>\n",
       "      <td>1600</td>\n",
       "      <td>235</td>\n",
       "      <td>900</td>\n",
       "      <td>1.35</td>\n",
       "    </tr>\n",
       "    <tr>\n",
       "      <th>3</th>\n",
       "      <td>Australia</td>\n",
       "      <td>Melbourne</td>\n",
       "      <td>University of Melbourne</td>\n",
       "      <td>Engineering</td>\n",
       "      <td>Master</td>\n",
       "      <td>2.0</td>\n",
       "      <td>42000</td>\n",
       "      <td>71.2</td>\n",
       "      <td>1400</td>\n",
       "      <td>450</td>\n",
       "      <td>650</td>\n",
       "      <td>1.52</td>\n",
       "    </tr>\n",
       "    <tr>\n",
       "      <th>4</th>\n",
       "      <td>Germany</td>\n",
       "      <td>Munich</td>\n",
       "      <td>Technical University of Munich</td>\n",
       "      <td>Mechanical Engineering</td>\n",
       "      <td>Master</td>\n",
       "      <td>2.0</td>\n",
       "      <td>500</td>\n",
       "      <td>70.5</td>\n",
       "      <td>1100</td>\n",
       "      <td>75</td>\n",
       "      <td>550</td>\n",
       "      <td>0.92</td>\n",
       "    </tr>\n",
       "  </tbody>\n",
       "</table>\n",
       "</div>"
      ],
      "text/plain": [
       "     Country       City                      University  \\\n",
       "0        USA  Cambridge              Harvard University   \n",
       "1         UK     London         Imperial College London   \n",
       "2     Canada    Toronto           University of Toronto   \n",
       "3  Australia  Melbourne         University of Melbourne   \n",
       "4    Germany     Munich  Technical University of Munich   \n",
       "\n",
       "                  Program   Level  Duration_Years  Tuition_USD  \\\n",
       "0        Computer Science  Master             2.0        55400   \n",
       "1            Data Science  Master             1.0        41200   \n",
       "2      Business Analytics  Master             2.0        38500   \n",
       "3             Engineering  Master             2.0        42000   \n",
       "4  Mechanical Engineering  Master             2.0          500   \n",
       "\n",
       "   Living_Cost_Index  Rent_USD  Visa_Fee_USD  Insurance_USD  Exchange_Rate  \n",
       "0               83.5      2200           160           1500           1.00  \n",
       "1               75.8      1800           485            800           0.79  \n",
       "2               72.5      1600           235            900           1.35  \n",
       "3               71.2      1400           450            650           1.52  \n",
       "4               70.5      1100            75            550           0.92  "
      ]
     },
     "execution_count": 2,
     "metadata": {},
     "output_type": "execute_result"
    }
   ],
   "source": [
    "#loading the data\n",
    "df = pd.read_csv(r'C:\\Users\\ABCD\\OneDrive\\Documents\\_CP30-EduSpend\\SDS-CP030-edu-spend\\submissions\\team-members\\lakshay-yadav\\data\\International_Education_Costs.csv')\n",
    "df.head()"
   ]
  },
  {
   "cell_type": "code",
   "execution_count": 3,
   "id": "321780de",
   "metadata": {},
   "outputs": [
    {
     "name": "stdout",
     "output_type": "stream",
     "text": [
      "<class 'pandas.core.frame.DataFrame'>\n",
      "RangeIndex: 907 entries, 0 to 906\n",
      "Data columns (total 12 columns):\n",
      " #   Column             Non-Null Count  Dtype  \n",
      "---  ------             --------------  -----  \n",
      " 0   Country            907 non-null    object \n",
      " 1   City               907 non-null    object \n",
      " 2   University         907 non-null    object \n",
      " 3   Program            907 non-null    object \n",
      " 4   Level              907 non-null    object \n",
      " 5   Duration_Years     907 non-null    float64\n",
      " 6   Tuition_USD        907 non-null    int64  \n",
      " 7   Living_Cost_Index  907 non-null    float64\n",
      " 8   Rent_USD           907 non-null    int64  \n",
      " 9   Visa_Fee_USD       907 non-null    int64  \n",
      " 10  Insurance_USD      907 non-null    int64  \n",
      " 11  Exchange_Rate      907 non-null    float64\n",
      "dtypes: float64(3), int64(4), object(5)\n",
      "memory usage: 85.2+ KB\n"
     ]
    }
   ],
   "source": [
    "df.info()"
   ]
  },
  {
   "cell_type": "code",
   "execution_count": 4,
   "id": "552929cc",
   "metadata": {},
   "outputs": [
    {
     "data": {
      "text/html": [
       "<div>\n",
       "<style scoped>\n",
       "    .dataframe tbody tr th:only-of-type {\n",
       "        vertical-align: middle;\n",
       "    }\n",
       "\n",
       "    .dataframe tbody tr th {\n",
       "        vertical-align: top;\n",
       "    }\n",
       "\n",
       "    .dataframe thead th {\n",
       "        text-align: right;\n",
       "    }\n",
       "</style>\n",
       "<table border=\"1\" class=\"dataframe\">\n",
       "  <thead>\n",
       "    <tr style=\"text-align: right;\">\n",
       "      <th></th>\n",
       "      <th>Duration_Years</th>\n",
       "      <th>Tuition_USD</th>\n",
       "      <th>Living_Cost_Index</th>\n",
       "      <th>Rent_USD</th>\n",
       "      <th>Visa_Fee_USD</th>\n",
       "      <th>Insurance_USD</th>\n",
       "      <th>Exchange_Rate</th>\n",
       "    </tr>\n",
       "  </thead>\n",
       "  <tbody>\n",
       "    <tr>\n",
       "      <th>count</th>\n",
       "      <td>907.000000</td>\n",
       "      <td>907.000000</td>\n",
       "      <td>907.000000</td>\n",
       "      <td>907.000000</td>\n",
       "      <td>907.000000</td>\n",
       "      <td>907.000000</td>\n",
       "      <td>907.000000</td>\n",
       "    </tr>\n",
       "    <tr>\n",
       "      <th>mean</th>\n",
       "      <td>2.836825</td>\n",
       "      <td>16705.016538</td>\n",
       "      <td>64.437486</td>\n",
       "      <td>969.206174</td>\n",
       "      <td>211.396913</td>\n",
       "      <td>700.077178</td>\n",
       "      <td>623.000695</td>\n",
       "    </tr>\n",
       "    <tr>\n",
       "      <th>std</th>\n",
       "      <td>0.945449</td>\n",
       "      <td>16582.385275</td>\n",
       "      <td>14.056333</td>\n",
       "      <td>517.154752</td>\n",
       "      <td>143.435740</td>\n",
       "      <td>320.374875</td>\n",
       "      <td>3801.746134</td>\n",
       "    </tr>\n",
       "    <tr>\n",
       "      <th>min</th>\n",
       "      <td>1.000000</td>\n",
       "      <td>0.000000</td>\n",
       "      <td>27.800000</td>\n",
       "      <td>150.000000</td>\n",
       "      <td>40.000000</td>\n",
       "      <td>200.000000</td>\n",
       "      <td>0.150000</td>\n",
       "    </tr>\n",
       "    <tr>\n",
       "      <th>25%</th>\n",
       "      <td>2.000000</td>\n",
       "      <td>2850.000000</td>\n",
       "      <td>56.300000</td>\n",
       "      <td>545.000000</td>\n",
       "      <td>100.000000</td>\n",
       "      <td>450.000000</td>\n",
       "      <td>0.920000</td>\n",
       "    </tr>\n",
       "    <tr>\n",
       "      <th>50%</th>\n",
       "      <td>3.000000</td>\n",
       "      <td>7500.000000</td>\n",
       "      <td>67.500000</td>\n",
       "      <td>900.000000</td>\n",
       "      <td>160.000000</td>\n",
       "      <td>650.000000</td>\n",
       "      <td>1.350000</td>\n",
       "    </tr>\n",
       "    <tr>\n",
       "      <th>75%</th>\n",
       "      <td>4.000000</td>\n",
       "      <td>31100.000000</td>\n",
       "      <td>72.200000</td>\n",
       "      <td>1300.000000</td>\n",
       "      <td>240.000000</td>\n",
       "      <td>800.000000</td>\n",
       "      <td>7.150000</td>\n",
       "    </tr>\n",
       "    <tr>\n",
       "      <th>max</th>\n",
       "      <td>5.000000</td>\n",
       "      <td>62000.000000</td>\n",
       "      <td>122.400000</td>\n",
       "      <td>2500.000000</td>\n",
       "      <td>490.000000</td>\n",
       "      <td>1500.000000</td>\n",
       "      <td>42150.000000</td>\n",
       "    </tr>\n",
       "  </tbody>\n",
       "</table>\n",
       "</div>"
      ],
      "text/plain": [
       "       Duration_Years   Tuition_USD  Living_Cost_Index     Rent_USD  \\\n",
       "count      907.000000    907.000000         907.000000   907.000000   \n",
       "mean         2.836825  16705.016538          64.437486   969.206174   \n",
       "std          0.945449  16582.385275          14.056333   517.154752   \n",
       "min          1.000000      0.000000          27.800000   150.000000   \n",
       "25%          2.000000   2850.000000          56.300000   545.000000   \n",
       "50%          3.000000   7500.000000          67.500000   900.000000   \n",
       "75%          4.000000  31100.000000          72.200000  1300.000000   \n",
       "max          5.000000  62000.000000         122.400000  2500.000000   \n",
       "\n",
       "       Visa_Fee_USD  Insurance_USD  Exchange_Rate  \n",
       "count    907.000000     907.000000     907.000000  \n",
       "mean     211.396913     700.077178     623.000695  \n",
       "std      143.435740     320.374875    3801.746134  \n",
       "min       40.000000     200.000000       0.150000  \n",
       "25%      100.000000     450.000000       0.920000  \n",
       "50%      160.000000     650.000000       1.350000  \n",
       "75%      240.000000     800.000000       7.150000  \n",
       "max      490.000000    1500.000000   42150.000000  "
      ]
     },
     "execution_count": 4,
     "metadata": {},
     "output_type": "execute_result"
    }
   ],
   "source": [
    "df.describe()"
   ]
  },
  {
   "cell_type": "markdown",
   "id": "bf266fd1",
   "metadata": {},
   "source": [
    "Checking for Missing Values"
   ]
  },
  {
   "cell_type": "code",
   "execution_count": 5,
   "id": "6196c4ef",
   "metadata": {},
   "outputs": [
    {
     "data": {
      "text/plain": [
       "Country              0.0\n",
       "City                 0.0\n",
       "University           0.0\n",
       "Program              0.0\n",
       "Level                0.0\n",
       "Duration_Years       0.0\n",
       "Tuition_USD          0.0\n",
       "Living_Cost_Index    0.0\n",
       "Rent_USD             0.0\n",
       "Visa_Fee_USD         0.0\n",
       "Insurance_USD        0.0\n",
       "Exchange_Rate        0.0\n",
       "dtype: float64"
      ]
     },
     "execution_count": 5,
     "metadata": {},
     "output_type": "execute_result"
    }
   ],
   "source": [
    "# Check for missing data\n",
    "df.isnull().sum().sort_values(ascending=False)\n",
    "\n",
    "# Percentage of missing values\n",
    "df.isnull().mean() * 100"
   ]
  },
  {
   "cell_type": "markdown",
   "id": "99d51a84",
   "metadata": {},
   "source": [
    "Plot Feature Distributions"
   ]
  },
  {
   "cell_type": "code",
   "execution_count": 6,
   "id": "d386efdf",
   "metadata": {},
   "outputs": [
    {
     "data": {
      "image/png": "[encoded data removed]",
      "text/plain": [
       "<Figure size 640x480 with 1 Axes>"
      ]
     },
     "metadata": {},
     "output_type": "display_data"
    },
    {
     "data": {
      "image/png": "[encoded data removed]",
      "text/plain": [
       "<Figure size 640x480 with 1 Axes>"
      ]
     },
     "metadata": {},
     "output_type": "display_data"
    }
   ],
   "source": [
    "# Tuition Distribution\n",
    "sns.histplot(df['Tuition_USD'], kde=True)\n",
    "plt.title('Tuition Distribution')\n",
    "plt.show()\n",
    "\n",
    "# Rent Distribution\n",
    "sns.histplot(df['Rent_USD'], kde=True)\n",
    "plt.title('Rent Distribution')\n",
    "plt.show()"
   ]
  },
  {
   "cell_type": "markdown",
   "id": "2189d919",
   "metadata": {},
   "source": [
    "Correlation Heatmap"
   ]
  },
  {
   "cell_type": "code",
   "execution_count": 7,
   "id": "b925b7ac",
   "metadata": {},
   "outputs": [
    {
     "data": {
      "image/png": "[encoded data removed]",
      "text/plain": [
       "<Figure size 1000x600 with 2 Axes>"
      ]
     },
     "metadata": {},
     "output_type": "display_data"
    }
   ],
   "source": [
    "plt.figure(figsize=(10,6))\n",
    "sns.heatmap(df.corr(numeric_only=True), annot=True, cmap='coolwarm')\n",
    "plt.title('Correlation Between Variables')\n",
    "plt.show()"
   ]
  },
  {
   "cell_type": "markdown",
   "id": "5af05b4d",
   "metadata": {},
   "source": [
    "Computing Total Cost of Attendance (TCA): (tuition + rent × months + visa + insurance × years)"
   ]
  },
  {
   "cell_type": "code",
   "execution_count": 8,
   "id": "3ebaf12a",
   "metadata": {},
   "outputs": [
    {
     "data": {
      "text/html": [
       "<div>\n",
       "<style scoped>\n",
       "    .dataframe tbody tr th:only-of-type {\n",
       "        vertical-align: middle;\n",
       "    }\n",
       "\n",
       "    .dataframe tbody tr th {\n",
       "        vertical-align: top;\n",
       "    }\n",
       "\n",
       "    .dataframe thead th {\n",
       "        text-align: right;\n",
       "    }\n",
       "</style>\n",
       "<table border=\"1\" class=\"dataframe\">\n",
       "  <thead>\n",
       "    <tr style=\"text-align: right;\">\n",
       "      <th></th>\n",
       "      <th>Country</th>\n",
       "      <th>City</th>\n",
       "      <th>Level</th>\n",
       "      <th>TCA</th>\n",
       "    </tr>\n",
       "  </thead>\n",
       "  <tbody>\n",
       "    <tr>\n",
       "      <th>0</th>\n",
       "      <td>USA</td>\n",
       "      <td>Cambridge</td>\n",
       "      <td>Master</td>\n",
       "      <td>83460</td>\n",
       "    </tr>\n",
       "    <tr>\n",
       "      <th>1</th>\n",
       "      <td>UK</td>\n",
       "      <td>London</td>\n",
       "      <td>Master</td>\n",
       "      <td>64085</td>\n",
       "    </tr>\n",
       "    <tr>\n",
       "      <th>2</th>\n",
       "      <td>Canada</td>\n",
       "      <td>Toronto</td>\n",
       "      <td>Master</td>\n",
       "      <td>58835</td>\n",
       "    </tr>\n",
       "    <tr>\n",
       "      <th>3</th>\n",
       "      <td>Australia</td>\n",
       "      <td>Melbourne</td>\n",
       "      <td>Master</td>\n",
       "      <td>59900</td>\n",
       "    </tr>\n",
       "    <tr>\n",
       "      <th>4</th>\n",
       "      <td>Germany</td>\n",
       "      <td>Munich</td>\n",
       "      <td>Master</td>\n",
       "      <td>14325</td>\n",
       "    </tr>\n",
       "  </tbody>\n",
       "</table>\n",
       "</div>"
      ],
      "text/plain": [
       "     Country       City   Level    TCA\n",
       "0        USA  Cambridge  Master  83460\n",
       "1         UK     London  Master  64085\n",
       "2     Canada    Toronto  Master  58835\n",
       "3  Australia  Melbourne  Master  59900\n",
       "4    Germany     Munich  Master  14325"
      ]
     },
     "execution_count": 8,
     "metadata": {},
     "output_type": "execute_result"
    }
   ],
   "source": [
    "# Assuming standard duration and months\n",
    "DURATION_YEARS = 1\n",
    "MONTHS = 12\n",
    "\n",
    "df['TCA'] = df['Tuition_USD'] + (df['Rent_USD'] * MONTHS) + df['Visa_Fee_USD'] + (df['Insurance_USD'] * DURATION_YEARS)\n",
    "df[['Country', 'City', 'Level', 'TCA']].head()"
   ]
  },
  {
   "cell_type": "markdown",
   "id": "1da77b54",
   "metadata": {},
   "source": [
    "Visualizing TCA by Country and Degree Level"
   ]
  },
  {
   "cell_type": "code",
   "execution_count": 9,
   "id": "4e59e2e3",
   "metadata": {},
   "outputs": [
    {
     "data": {
      "application/vnd.plotly.v1+json": {
       "config": {
        "plotlyServerURL": "https://plot.ly"
       },
       "data": [
        {
         "hovertemplate": "Country=%{x}<br>TCA=%{y}<extra></extra>",
         "legendgroup": "",
         "marker": {
          "color": "#636efa",
          "pattern": {
           "shape": ""
          }
         },
         "name": "",
         "orientation": "v",
         "showlegend": false,
         "textposition": "auto",
         "type": "bar",
         "x": [
          "USA",
          "Australia",
          "Singapore",
          "UK",
          "Canada",
          "New Zealand",
          "Hong Kong",
          "UAE",
          "Ireland",
          "Israel",
          "Netherlands",
          "Switzerland",
          "Kuwait",
          "Lebanon",
          "France",
          "Czech Republic",
          "Japan",
          "Italy",
          "Denmark",
          "Bahrain",
          "Luxembourg",
          "China",
          "South Korea",
          "Belgium",
          "Cyprus",
          "Taiwan",
          "Thailand",
          "Saudi Arabia",
          "Spain",
          "South Africa",
          "Portugal",
          "Norway",
          "Iceland",
          "Malaysia",
          "Germany",
          "Panama",
          "Mexico",
          "Austria",
          "Sweden",
          "Ecuador",
          "Finland",
          "Peru",
          "Russia",
          "Hungary",
          "Poland",
          "Slovenia",
          "El Salvador",
          "Dominican Republic",
          "Vietnam",
          "Croatia",
          "Ukraine",
          "Indonesia",
          "Egypt",
          "Nigeria",
          "Uruguay",
          "Colombia",
          "Bulgaria",
          "Iran",
          "Ghana",
          "Brazil",
          "Romania",
          "Turkey",
          "Uzbekistan",
          "Serbia",
          "Greece",
          "India",
          "Morocco",
          "Bangladesh",
          "Argentina",
          "Tunisia",
          "Algeria"
         ],
         "xaxis": "x",
         "y": {
          "bdata": "AAAAAOCB8UAAAAAAQGrpQMdxHMdxSulAFlhggeWR5kB5DeU1dKzlQMdxHMcRquRAAAAAAADi40AAAAAAeMHhQAAAAACAkt9AAAAAAIC12kCGYRiGYdvZQDMzMzMzgtZAAAAAAAC81EAAAAAAgA7UQIX2EtqLztFAAAAAAACt0UAAAAAAQIbRQEtLS0tLVM9Aq6qqqqpFz0AAAAAAAAnPQCVJkiRJVM5Aq6qqqqpCzkDf9KY3vQzNQHIcx3EcOsxAAAAAAAARzEAAAAAAALfLQAAAAACgsstAAAAAAIA9y0BaWlpaWuzKQAAAAAAApMpAHMdxHMc4ykDRRRdd9B/KQAAAAAAA3MlAAAAAAIA+yUCrqqqqKm7IQAAAAAAAFshAq6qqqqrkx0DkOI7jOHLHQAAAAAAAPcdAAAAAAADkxkDpoosuugDGQAAAAAAA1sVAx3Ecx3HHxEAAAAAAgHDEQAAAAACgl8NAAAAAAAAzw0AAAAAAAOnBQAAAAAAAnMFAAAAAAACFwUCrqqqqqhPBQAAAAAAAVL9AAAAAAMDQvkAAAAAAAIy+QAAAAAAAZL5AAAAAAAAsvkAAAAAAAAq+QAAAAAAACr5AAAAAAAAWvEAAAAAAAPK7QAAAAADAtbtAbtu2bdtQu0AAAAAAAKS6QAAAAAAAhrpAAAAAAACyuUAPDw8PD5O5QAAAAACA9LdAAAAAAAD+tUAAAAAAANiyQKuqqqqqfq5AAAAAAABQrkAAAAAAALitQA==",
          "dtype": "f8"
         },
         "yaxis": "y"
        }
       ],
       "layout": {
        "barmode": "relative",
        "legend": {
         "tracegroupgap": 0
        },
        "template": {
         "data": {
          "bar": [
           {
            "error_x": {
             "color": "#2a3f5f"
            },
            "error_y": {
             "color": "#2a3f5f"
            },
            "marker": {
             "line": {
              "color": "#E5ECF6",
              "width": 0.5
             },
             "pattern": {
              "fillmode": "overlay",
              "size": 10,
              "solidity": 0.2
             }
            },
            "type": "bar"
           }
          ],
          "barpolar": [
           {
            "marker": {
             "line": {
              "color": "#E5ECF6",
              "width": 0.5
             },
             "pattern": {
              "fillmode": "overlay",
              "size": 10,
              "solidity": 0.2
             }
            },
            "type": "barpolar"
           }
          ],
          "carpet": [
           {
            "aaxis": {
             "endlinecolor": "#2a3f5f",
             "gridcolor": "white",
             "linecolor": "white",
             "minorgridcolor": "white",
             "startlinecolor": "#2a3f5f"
            },
            "baxis": {
             "endlinecolor": "#2a3f5f",
             "gridcolor": "white",
             "linecolor": "white",
             "minorgridcolor": "white",
             "startlinecolor": "#2a3f5f"
            },
            "type": "carpet"
           }
          ],
          "choropleth": [
           {
            "colorbar": {
             "outlinewidth": 0,
             "ticks": ""
            },
            "type": "choropleth"
           }
          ],
          "contour": [
           {
            "colorbar": {
             "outlinewidth": 0,
             "ticks": ""
            },
            "colorscale": [
             [
              0,
              "#0d0887"
             ],
             [
              0.1111111111111111,
              "#46039f"
             ],
             [
              0.2222222222222222,
              "#7201a8"
             ],
             [
              0.3333333333333333,
              "#9c179e"
             ],
             [
              0.4444444444444444,
              "#bd3786"
             ],
             [
              0.5555555555555556,
              "#d8576b"
             ],
             [
              0.6666666666666666,
              "#ed7953"
             ],
             [
              0.7777777777777778,
              "#fb9f3a"
             ],
             [
              0.8888888888888888,
              "#fdca26"
             ],
             [
              1,
              "#f0f921"
             ]
            ],
            "type": "contour"
           }
          ],
          "contourcarpet": [
           {
            "colorbar": {
             "outlinewidth": 0,
             "ticks": ""
            },
            "type": "contourcarpet"
           }
          ],
          "heatmap": [
           {
            "colorbar": {
             "outlinewidth": 0,
             "ticks": ""
            },
            "colorscale": [
             [
              0,
              "#0d0887"
             ],
             [
              0.1111111111111111,
              "#46039f"
             ],
             [
              0.2222222222222222,
              "#7201a8"
             ],
             [
              0.3333333333333333,
              "#9c179e"
             ],
             [
              0.4444444444444444,
              "#bd3786"
             ],
             [
              0.5555555555555556,
              "#d8576b"
             ],
             [
              0.6666666666666666,
              "#ed7953"
             ],
             [
              0.7777777777777778,
              "#fb9f3a"
             ],
             [
              0.8888888888888888,
              "#fdca26"
             ],
             [
              1,
              "#f0f921"
             ]
            ],
            "type": "heatmap"
           }
          ],
          "histogram": [
           {
            "marker": {
             "pattern": {
              "fillmode": "overlay",
              "size": 10,
              "solidity": 0.2
             }
            },
            "type": "histogram"
           }
          ],
          "histogram2d": [
           {
            "colorbar": {
             "outlinewidth": 0,
             "ticks": ""
            },
            "colorscale": [
             [
              0,
              "#0d0887"
             ],
             [
              0.1111111111111111,
              "#46039f"
             ],
             [
              0.2222222222222222,
              "#7201a8"
             ],
             [
              0.3333333333333333,
              "#9c179e"
             ],
             [
              0.4444444444444444,
              "#bd3786"
             ],
             [
              0.5555555555555556,
              "#d8576b"
             ],
             [
              0.6666666666666666,
              "#ed7953"
             ],
             [
              0.7777777777777778,
              "#fb9f3a"
             ],
             [
              0.8888888888888888,
              "#fdca26"
             ],
             [
              1,
              "#f0f921"
             ]
            ],
            "type": "histogram2d"
           }
          ],
          "histogram2dcontour": [
           {
            "colorbar": {
             "outlinewidth": 0,
             "ticks": ""
            },
            "colorscale": [
             [
              0,
              "#0d0887"
             ],
             [
              0.1111111111111111,
              "#46039f"
             ],
             [
              0.2222222222222222,
              "#7201a8"
             ],
             [
              0.3333333333333333,
              "#9c179e"
             ],
             [
              0.4444444444444444,
              "#bd3786"
             ],
             [
              0.5555555555555556,
              "#d8576b"
             ],
             [
              0.6666666666666666,
              "#ed7953"
             ],
             [
              0.7777777777777778,
              "#fb9f3a"
             ],
             [
              0.8888888888888888,
              "#fdca26"
             ],
             [
              1,
              "#f0f921"
             ]
            ],
            "type": "histogram2dcontour"
           }
          ],
          "mesh3d": [
           {
            "colorbar": {
             "outlinewidth": 0,
             "ticks": ""
            },
            "type": "mesh3d"
           }
          ],
          "parcoords": [
           {
            "line": {
             "colorbar": {
              "outlinewidth": 0,
              "ticks": ""
             }
            },
            "type": "parcoords"
           }
          ],
          "pie": [
           {
            "automargin": true,
            "type": "pie"
           }
          ],
          "scatter": [
           {
            "fillpattern": {
             "fillmode": "overlay",
             "size": 10,
             "solidity": 0.2
            },
            "type": "scatter"
           }
          ],
          "scatter3d": [
           {
            "line": {
             "colorbar": {
              "outlinewidth": 0,
              "ticks": ""
             }
            },
            "marker": {
             "colorbar": {
              "outlinewidth": 0,
              "ticks": ""
             }
            },
            "type": "scatter3d"
           }
          ],
          "scattercarpet": [
           {
            "marker": {
             "colorbar": {
              "outlinewidth": 0,
              "ticks": ""
             }
            },
            "type": "scattercarpet"
           }
          ],
          "scattergeo": [
           {
            "marker": {
             "colorbar": {
              "outlinewidth": 0,
              "ticks": ""
             }
            },
            "type": "scattergeo"
           }
          ],
          "scattergl": [
           {
            "marker": {
             "colorbar": {
              "outlinewidth": 0,
              "ticks": ""
             }
            },
            "type": "scattergl"
           }
          ],
          "scattermap": [
           {
            "marker": {
             "colorbar": {
              "outlinewidth": 0,
              "ticks": ""
             }
            },
            "type": "scattermap"
           }
          ],
          "scattermapbox": [
           {
            "marker": {
             "colorbar": {
              "outlinewidth": 0,
              "ticks": ""
             }
            },
            "type": "scattermapbox"
           }
          ],
          "scatterpolar": [
           {
            "marker": {
             "colorbar": {
              "outlinewidth": 0,
              "ticks": ""
             }
            },
            "type": "scatterpolar"
           }
          ],
          "scatterpolargl": [
           {
            "marker": {
             "colorbar": {
              "outlinewidth": 0,
              "ticks": ""
             }
            },
            "type": "scatterpolargl"
           }
          ],
          "scatterternary": [
           {
            "marker": {
             "colorbar": {
              "outlinewidth": 0,
              "ticks": ""
             }
            },
            "type": "scatterternary"
           }
          ],
          "surface": [
           {
            "colorbar": {
             "outlinewidth": 0,
             "ticks": ""
            },
            "colorscale": [
             [
              0,
              "#0d0887"
             ],
             [
              0.1111111111111111,
              "#46039f"
             ],
             [
              0.2222222222222222,
              "#7201a8"
             ],
             [
              0.3333333333333333,
              "#9c179e"
             ],
             [
              0.4444444444444444,
              "#bd3786"
             ],
             [
              0.5555555555555556,
              "#d8576b"
             ],
             [
              0.6666666666666666,
              "#ed7953"
             ],
             [
              0.7777777777777778,
              "#fb9f3a"
             ],
             [
              0.8888888888888888,
              "#fdca26"
             ],
             [
              1,
              "#f0f921"
             ]
            ],
            "type": "surface"
           }
          ],
          "table": [
           {
            "cells": {
             "fill": {
              "color": "#EBF0F8"
             },
             "line": {
              "color": "white"
             }
            },
            "header": {
             "fill": {
              "color": "#C8D4E3"
             },
             "line": {
              "color": "white"
             }
            },
            "type": "table"
           }
          ]
         },
         "layout": {
          "annotationdefaults": {
           "arrowcolor": "#2a3f5f",
           "arrowhead": 0,
           "arrowwidth": 1
          },
          "autotypenumbers": "strict",
          "coloraxis": {
           "colorbar": {
            "outlinewidth": 0,
            "ticks": ""
           }
          },
          "colorscale": {
           "diverging": [
            [
             0,
             "#8e0152"
            ],
            [
             0.1,
             "#c51b7d"
            ],
            [
             0.2,
             "#de77ae"
            ],
            [
             0.3,
             "#f1b6da"
            ],
            [
             0.4,
             "#fde0ef"
            ],
            [
             0.5,
             "#f7f7f7"
            ],
            [
             0.6,
             "#e6f5d0"
            ],
            [
             0.7,
             "#b8e186"
            ],
            [
             0.8,
             "#7fbc41"
            ],
            [
             0.9,
             "#4d9221"
            ],
            [
             1,
             "#276419"
            ]
           ],
           "sequential": [
            [
             0,
             "#0d0887"
            ],
            [
             0.1111111111111111,
             "#46039f"
            ],
            [
             0.2222222222222222,
             "#7201a8"
            ],
            [
             0.3333333333333333,
             "#9c179e"
            ],
            [
             0.4444444444444444,
             "#bd3786"
            ],
            [
             0.5555555555555556,
             "#d8576b"
            ],
            [
             0.6666666666666666,
             "#ed7953"
            ],
            [
             0.7777777777777778,
             "#fb9f3a"
            ],
            [
             0.8888888888888888,
             "#fdca26"
            ],
            [
             1,
             "#f0f921"
            ]
           ],
           "sequentialminus": [
            [
             0,
             "#0d0887"
            ],
            [
             0.1111111111111111,
             "#46039f"
            ],
            [
             0.2222222222222222,
             "#7201a8"
            ],
            [
             0.3333333333333333,
             "#9c179e"
            ],
            [
             0.4444444444444444,
             "#bd3786"
            ],
            [
             0.5555555555555556,
             "#d8576b"
            ],
            [
             0.6666666666666666,
             "#ed7953"
            ],
            [
             0.7777777777777778,
             "#fb9f3a"
            ],
            [
             0.8888888888888888,
             "#fdca26"
            ],
            [
             1,
             "#f0f921"
            ]
           ]
          },
          "colorway": [
           "#636efa",
           "#EF553B",
           "#00cc96",
           "#ab63fa",
           "#FFA15A",
           "#19d3f3",
           "#FF6692",
           "#B6E880",
           "#FF97FF",
           "#FECB52"
          ],
          "font": {
           "color": "#2a3f5f"
          },
          "geo": {
           "bgcolor": "white",
           "lakecolor": "white",
           "landcolor": "#E5ECF6",
           "showlakes": true,
           "showland": true,
           "subunitcolor": "white"
          },
          "hoverlabel": {
           "align": "left"
          },
          "hovermode": "closest",
          "mapbox": {
           "style": "light"
          },
          "paper_bgcolor": "white",
          "plot_bgcolor": "#E5ECF6",
          "polar": {
           "angularaxis": {
            "gridcolor": "white",
            "linecolor": "white",
            "ticks": ""
           },
           "bgcolor": "#E5ECF6",
           "radialaxis": {
            "gridcolor": "white",
            "linecolor": "white",
            "ticks": ""
           }
          },
          "scene": {
           "xaxis": {
            "backgroundcolor": "#E5ECF6",
            "gridcolor": "white",
            "gridwidth": 2,
            "linecolor": "white",
            "showbackground": true,
            "ticks": "",
            "zerolinecolor": "white"
           },
           "yaxis": {
            "backgroundcolor": "#E5ECF6",
            "gridcolor": "white",
            "gridwidth": 2,
            "linecolor": "white",
            "showbackground": true,
            "ticks": "",
            "zerolinecolor": "white"
           },
           "zaxis": {
            "backgroundcolor": "#E5ECF6",
            "gridcolor": "white",
            "gridwidth": 2,
            "linecolor": "white",
            "showbackground": true,
            "ticks": "",
            "zerolinecolor": "white"
           }
          },
          "shapedefaults": {
           "line": {
            "color": "#2a3f5f"
           }
          },
          "ternary": {
           "aaxis": {
            "gridcolor": "white",
            "linecolor": "white",
            "ticks": ""
           },
           "baxis": {
            "gridcolor": "white",
            "linecolor": "white",
            "ticks": ""
           },
           "bgcolor": "#E5ECF6",
           "caxis": {
            "gridcolor": "white",
            "linecolor": "white",
            "ticks": ""
           }
          },
          "title": {
           "x": 0.05
          },
          "xaxis": {
           "automargin": true,
           "gridcolor": "white",
           "linecolor": "white",
           "ticks": "",
           "title": {
            "standoff": 15
           },
           "zerolinecolor": "white",
           "zerolinewidth": 2
          },
          "yaxis": {
           "automargin": true,
           "gridcolor": "white",
           "linecolor": "white",
           "ticks": "",
           "title": {
            "standoff": 15
           },
           "zerolinecolor": "white",
           "zerolinewidth": 2
          }
         }
        },
        "title": {
         "text": "Average TCA by Country"
        },
        "xaxis": {
         "anchor": "y",
         "domain": [
          0,
          1
         ],
         "title": {
          "text": "Country"
         }
        },
        "yaxis": {
         "anchor": "x",
         "domain": [
          0,
          1
         ],
         "title": {
          "text": "TCA"
         }
        }
       }
      }
     },
     "metadata": {},
     "output_type": "display_data"
    },
    {
     "data": {
      "application/vnd.plotly.v1+json": {
       "config": {
        "plotlyServerURL": "https://plot.ly"
       },
       "data": [
        {
         "alignmentgroup": "True",
         "hovertemplate": "Level=%{x}<br>TCA=%{y}<extra></extra>",
         "legendgroup": "",
         "marker": {
          "color": "#636efa"
         },
         "name": "",
         "notched": false,
         "offsetgroup": "",
         "orientation": "v",
         "showlegend": false,
         "type": "box",
         "x": [
          "Master",
          "Master",
          "Master",
          "Master",
          "Master",
          "Master",
          "Master",
          "Master",
          "Master",
          "Master",
          "Master",
          "Master",
          "Master",
          "Master",
          "Master",
          "Bachelor",
          "Bachelor",
          "Bachelor",
          "Bachelor",
          "Bachelor",
          "Bachelor",
          "Bachelor",
          "Bachelor",
          "Bachelor",
          "Bachelor",
          "Bachelor",
          "Bachelor",
          "Bachelor",
          "Bachelor",
          "PhD",
          "PhD",
          "PhD",
          "PhD",
          "PhD",
          "PhD",
          "PhD",
          "PhD",
          "PhD",
          "PhD",
          "PhD",
          "Bachelor",
          "Master",
          "PhD",
          "Master",
          "Master",
          "Bachelor",
          "Master",
          "Bachelor",
          "PhD",
          "Bachelor",
          "Bachelor",
          "Bachelor",
          "Bachelor",
          "Bachelor",
          "Bachelor",
          "Bachelor",
          "Bachelor",
          "Bachelor",
          "Bachelor",
          "Bachelor",
          "Bachelor",
          "Master",
          "Bachelor",
          "Master",
          "Bachelor",
          "Master",
          "PhD",
          "Bachelor",
          "Master",
          "Bachelor",
          "Master",
          "Bachelor",
          "Master",
          "Bachelor",
          "Master",
          "Bachelor",
          "Master",
          "Bachelor",
          "Master",
          "Bachelor",
          "Master",
          "Master",
          "Bachelor",
          "Master",
          "Bachelor",
          "Master",
          "Bachelor",
          "Master",
          "Bachelor",
          "Master",
          "Master",
          "Master",
          "Master",
          "PhD",
          "Bachelor",
          "Master",
          "PhD",
          "Bachelor",
          "Master",
          "Bachelor",
          "Master",
          "Master",
          "Bachelor",
          "Master",
          "PhD",
          "Bachelor",
          "Master",
          "Bachelor",
          "Master",
          "Bachelor",
          "Master",
          "Bachelor",
          "Master",
          "Master",
          "Bachelor",
          "Master",
          "Bachelor",
          "Bachelor",
          "Master",
          "Master",
          "PhD",
          "Master",
          "PhD",
          "Bachelor",
          "Master",
          "Bachelor",
          "Master",
          "Bachelor",
          "Master",
          "Bachelor",
          "Bachelor",
          "Master",
          "PhD",
          "Master",
          "Bachelor",
          "Bachelor",
          "Bachelor",
          "Bachelor",
          "Master",
          "Bachelor",
          "Bachelor",
          "Master",
          "Bachelor",
          "Master",
          "Bachelor",
          "Master",
          "Bachelor",
          "Master",
          "Bachelor",
          "Master",
          "Master",
          "Bachelor",
          "Bachelor",
          "Bachelor",
          "Bachelor",
          "Master",
          "Master",
          "Master",
          "Master",
          "PhD",
          "PhD",
          "Master",
          "Bachelor",
          "Master",
          "Master",
          "Bachelor",
          "Master",
          "Bachelor",
          "Master",
          "Bachelor",
          "Master",
          "Master",
          "Bachelor",
          "Master",
          "Bachelor",
          "Master",
          "Bachelor",
          "Master",
          "Master",
          "Bachelor",
          "Master",
          "Master",
          "Master",
          "Master",
          "Master",
          "Master",
          "Master",
          "Master",
          "Master",
          "Master",
          "Master",
          "Master",
          "Master",
          "Master",
          "Master",
          "Master",
          "Master",
          "Master",
          "Master",
          "Master",
          "Master",
          "Master",
          "Master",
          "Master",
          "Master",
          "Master",
          "Master",
          "Master",
          "Master",
          "Master",
          "Master",
          "Master",
          "Master",
          "Master",
          "Bachelor",
          "Bachelor",
          "Bachelor",
          "Bachelor",
          "Bachelor",
          "Bachelor",
          "Bachelor",
          "Bachelor",
          "Bachelor",
          "Bachelor",
          "Bachelor",
          "Bachelor",
          "Bachelor",
          "Bachelor",
          "Bachelor",
          "Bachelor",
          "Bachelor",
          "Bachelor",
          "Bachelor",
          "Bachelor",
          "Bachelor",
          "Bachelor",
          "Bachelor",
          "Bachelor",
          "Bachelor",
          "Bachelor",
          "Bachelor",
          "Bachelor",
          "Bachelor",
          "Bachelor",
          "Bachelor",
          "Bachelor",
          "Bachelor",
          "Bachelor",
          "Bachelor",
          "Bachelor",
          "Bachelor",
          "Bachelor",
          "Bachelor",
          "Bachelor",
          "Bachelor",
          "Bachelor",
          "Bachelor",
          "Bachelor",
          "Bachelor",
          "Bachelor",
          "Bachelor",
          "Bachelor",
          "Bachelor",
          "Bachelor",
          "Bachelor",
          "Bachelor",
          "Bachelor",
          "Bachelor",
          "Bachelor",
          "Bachelor",
          "Bachelor",
          "Bachelor",
          "Bachelor",
          "Bachelor",
          "Bachelor",
          "Bachelor",
          "Bachelor",
          "Bachelor",
          "Bachelor",
          "Bachelor",
          "Bachelor",
          "Bachelor",
          "Bachelor",
          "Bachelor",
          "Bachelor",
          "Master",
          "Bachelor",
          "Master",
          "Bachelor",
          "Master",
          "Bachelor",
          "Master",
          "Bachelor",
          "Master",
          "Bachelor",
          "Master",
          "Bachelor",
          "Master",
          "Bachelor",
          "Master",
          "Bachelor",
          "Master",
          "Bachelor",
          "Master",
          "Bachelor",
          "Master",
          "Bachelor",
          "Master",
          "Bachelor",
          "Master",
          "Bachelor",
          "Master",
          "Bachelor",
          "Master",
          "Bachelor",
          "Master",
          "Bachelor",
          "Master",
          "Bachelor",
          "Master",
          "Bachelor",
          "Master",
          "Bachelor",
          "Master",
          "Bachelor",
          "Master",
          "Bachelor",
          "Master",
          "Bachelor",
          "Master",
          "Bachelor",
          "Master",
          "Bachelor",
          "Master",
          "Bachelor",
          "Master",
          "PhD",
          "Bachelor",
          "Master",
          "PhD",
          "Bachelor",
          "Master",
          "PhD",
          "Bachelor",
          "Master",
          "PhD",
          "Bachelor",
          "Master",
          "PhD",
          "Bachelor",
          "Master",
          "PhD",
          "Bachelor",
          "Master",
          "PhD",
          "Bachelor",
          "Master",
          "PhD",
          "Bachelor",
          "Master",
          "PhD",
          "Bachelor",
          "Master",
          "PhD",
          "Bachelor",
          "Master",
          "PhD",
          "Bachelor",
          "Master",
          "PhD",
          "Bachelor",
          "Master",
          "PhD",
          "Bachelor",
          "Master",
          "PhD",
          "Bachelor",
          "Master",
          "PhD",
          "Bachelor",
          "Master",
          "PhD",
          "Bachelor",
          "Master",
          "PhD",
          "Bachelor",
          "Master",
          "PhD",
          "Bachelor",
          "Master",
          "PhD",
          "Bachelor",
          "Master",
          "PhD",
          "Bachelor",
          "Master",
          "PhD",
          "Master",
          "Master",
          "Master",
          "Master",
          "PhD",
          "PhD",
          "Master",
          "Bachelor",
          "Master",
          "PhD",
          "Master",
          "Bachelor",
          "Master",
          "PhD",
          "Master",
          "Master",
          "PhD",
          "Bachelor",
          "Master",
          "Master",
          "PhD",
          "Master",
          "Master",
          "Bachelor",
          "PhD",
          "Master",
          "Bachelor",
          "Master",
          "Master",
          "PhD",
          "Master",
          "PhD",
          "Bachelor",
          "Master",
          "Master",
          "PhD",
          "Master",
          "Master",
          "Bachelor",
          "Master",
          "Master",
          "PhD",
          "Master",
          "Master",
          "Bachelor",
          "PhD",
          "Master",
          "Bachelor",
          "Master",
          "PhD",
          "Master",
          "Master",
          "Master",
          "Master",
          "PhD",
          "Master",
          "Bachelor",
          "PhD",
          "Master",
          "Master",
          "Master",
          "Master",
          "Master",
          "Bachelor",
          "Master",
          "PhD",
          "Master",
          "Master",
          "Master",
          "Bachelor",
          "Master",
          "Master",
          "Master",
          "Master",
          "PhD",
          "Master",
          "Bachelor",
          "Master",
          "PhD",
          "Master",
          "Master",
          "Master",
          "Master",
          "Master",
          "Bachelor",
          "PhD",
          "Master",
          "Master",
          "Master",
          "Master",
          "Master",
          "Master",
          "Master",
          "PhD",
          "Master",
          "Bachelor",
          "PhD",
          "Master",
          "Master",
          "Master",
          "Bachelor",
          "Master",
          "PhD",
          "Master",
          "Master",
          "Bachelor",
          "Master",
          "PhD",
          "Master",
          "Master",
          "Master",
          "Master",
          "PhD",
          "Master",
          "Bachelor",
          "Master",
          "Master",
          "PhD",
          "Master",
          "Master",
          "Master",
          "Master",
          "PhD",
          "Bachelor",
          "Master",
          "Master",
          "Master",
          "PhD",
          "Master",
          "Master",
          "Master",
          "Master",
          "Master",
          "PhD",
          "Master",
          "Master",
          "PhD",
          "Bachelor",
          "Master",
          "Master",
          "PhD",
          "Master",
          "Master",
          "Master",
          "Bachelor",
          "Master",
          "Master",
          "PhD",
          "Master",
          "Master",
          "Master",
          "PhD",
          "Master",
          "Bachelor",
          "PhD",
          "Bachelor",
          "Master",
          "Master",
          "PhD",
          "Master",
          "Master",
          "Master",
          "Bachelor",
          "Master",
          "Master",
          "PhD",
          "Master",
          "Master",
          "Master",
          "Bachelor",
          "Master",
          "Master",
          "PhD",
          "Master",
          "Bachelor",
          "Master",
          "PhD",
          "Master",
          "Bachelor",
          "Master",
          "Master",
          "Master",
          "PhD",
          "Master",
          "Bachelor",
          "Master",
          "PhD",
          "Master",
          "Bachelor",
          "Master",
          "PhD",
          "Master",
          "Master",
          "Master",
          "Bachelor",
          "Master",
          "PhD",
          "Bachelor",
          "Master",
          "Master",
          "Master",
          "Master",
          "Master",
          "PhD",
          "Bachelor",
          "PhD",
          "Master",
          "Master",
          "Bachelor",
          "Master",
          "Master",
          "Master",
          "PhD",
          "Master",
          "Bachelor",
          "Master",
          "PhD",
          "Master",
          "Bachelor",
          "Master",
          "PhD",
          "Master",
          "Master",
          "PhD",
          "Master",
          "Bachelor",
          "Master",
          "PhD",
          "Master",
          "Bachelor",
          "Master",
          "PhD",
          "Master",
          "Bachelor",
          "Master",
          "PhD",
          "Master",
          "Bachelor",
          "Master",
          "PhD",
          "Master",
          "Bachelor",
          "PhD",
          "Master",
          "Master",
          "Bachelor",
          "Master",
          "Master",
          "PhD",
          "Bachelor",
          "Master",
          "PhD",
          "Master",
          "Bachelor",
          "Master",
          "Master",
          "PhD",
          "Master",
          "Bachelor",
          "PhD",
          "Master",
          "Master",
          "PhD",
          "Master",
          "Master",
          "Bachelor",
          "PhD",
          "Bachelor",
          "Master",
          "Master",
          "PhD",
          "Master",
          "Bachelor",
          "Master",
          "PhD",
          "Bachelor",
          "Master",
          "PhD",
          "Master",
          "PhD",
          "Master",
          "Master",
          "Bachelor",
          "Bachelor",
          "Master",
          "Master",
          "PhD",
          "Bachelor",
          "Master",
          "Bachelor",
          "Master",
          "Master",
          "PhD",
          "Bachelor",
          "Master",
          "Master",
          "Bachelor",
          "PhD",
          "Master",
          "Master",
          "Master",
          "PhD",
          "Master",
          "Bachelor",
          "Master",
          "PhD",
          "Bachelor",
          "Master",
          "Master",
          "Master",
          "PhD",
          "Master",
          "Master",
          "Bachelor",
          "Bachelor",
          "PhD",
          "Master",
          "Bachelor",
          "Master",
          "Master",
          "Master",
          "Master",
          "Bachelor",
          "PhD",
          "Master",
          "Master",
          "Bachelor",
          "PhD",
          "Master",
          "Master",
          "Master",
          "Master",
          "PhD",
          "Bachelor",
          "Master",
          "Master",
          "PhD",
          "Master",
          "Bachelor",
          "Master",
          "Master",
          "PhD",
          "Bachelor",
          "Master",
          "Bachelor",
          "PhD",
          "Master",
          "Bachelor",
          "Master",
          "PhD",
          "Master",
          "PhD",
          "Master",
          "Bachelor",
          "Master",
          "PhD",
          "Master",
          "Bachelor",
          "Master",
          "PhD",
          "Bachelor",
          "PhD",
          "Master",
          "Master",
          "PhD",
          "Bachelor",
          "Master",
          "Master",
          "Bachelor",
          "PhD",
          "Master",
          "Master",
          "Bachelor",
          "PhD",
          "Master",
          "Master",
          "Bachelor",
          "Master",
          "PhD",
          "Master",
          "Master",
          "Master",
          "Bachelor",
          "PhD",
          "Master",
          "Bachelor",
          "Master",
          "PhD",
          "Bachelor",
          "Master",
          "Master",
          "Master",
          "PhD",
          "Master",
          "Bachelor",
          "Master",
          "PhD",
          "Bachelor",
          "Master",
          "PhD",
          "Master",
          "Bachelor",
          "PhD",
          "Bachelor",
          "Master",
          "Master",
          "PhD",
          "Master",
          "Bachelor",
          "Master",
          "Master",
          "Master",
          "Bachelor",
          "PhD",
          "Master",
          "Master",
          "Bachelor",
          "Master",
          "PhD",
          "Master",
          "Master",
          "Master",
          "PhD",
          "Bachelor",
          "Master",
          "Bachelor",
          "Master",
          "PhD",
          "Master",
          "Bachelor",
          "Master",
          "PhD",
          "Bachelor",
          "Master",
          "Master",
          "Bachelor",
          "PhD",
          "Master",
          "Bachelor",
          "Master",
          "Master",
          "Bachelor",
          "PhD",
          "Master",
          "Master",
          "Bachelor",
          "Master",
          "PhD",
          "Master",
          "Bachelor",
          "Master",
          "PhD",
          "Master",
          "Master",
          "PhD",
          "Master",
          "Master",
          "Bachelor",
          "Master",
          "PhD",
          "PhD",
          "Master",
          "Bachelor",
          "Master",
          "PhD",
          "Master",
          "Master",
          "Master",
          "PhD",
          "Master",
          "PhD",
          "Master",
          "Bachelor",
          "PhD",
          "Master",
          "Master",
          "PhD",
          "Master",
          "Bachelor",
          "Master",
          "Master",
          "PhD",
          "Bachelor",
          "Master",
          "PhD",
          "Master",
          "Master",
          "PhD",
          "Master",
          "Master",
          "Bachelor",
          "Master",
          "PhD",
          "Bachelor",
          "Master",
          "PhD",
          "Master",
          "Master",
          "Bachelor",
          "Master",
          "PhD",
          "Master",
          "Master",
          "PhD",
          "Master",
          "Master",
          "Bachelor",
          "Master",
          "PhD",
          "Master"
         ],
         "x0": " ",
         "xaxis": "x",
         "y": {
          "bdata": "BEYBAFX6AADT5QAA/OkAAPU3AAB+YwAAjIcAAELlAAAhVgAALG0AAD46AAAqPwAAYEoAAMZIAAAEvwAAUjoAAOGqAAD4NAAAZj8AACgnAQBEAQEAQPEAAHWyAABDsgAAEJ8AAGY1AADWagAAbjcAALRGAAAERgEAxD8BAG3EAACVzgAAlS4AAERfAACETgAAPnEAAFuVAABUugAA3jAAADQMAQAw/AAAv5UAAHG7AAAoIwAAaiwAAP4uAAB4mwAAOj4AAMorAABQGAEARboAAP/NAAAE2AAAoSwAAAw6AAD6RgAANGwAAJg1AADpQwAAikgAAC5PAABqRQAASkIAADY9AAA2PQAAHloAAAo8AAB2QwAA9jYAAEI7AAD8twAAUMMAALyxAAAkqQAAOK4AAAi2AADkogAAtKoAAGimAABIowAAjScAAAssAADtMAAANSUAAOUpAABbJwAA3SIAAFMgAACNJwAA5SkAAEgqAQDsMAEAjCcBAOwXAQD4FQEAVN0AAFzkAAD07AAA0PIAAFz9AAA19wAA4aAAAKXDAADZmQAAyaQAAMWtAADBnQAAZaQAAJmTAADVogAAo7sAAGesAAADrAAAW64AAJuCAACnmQAAO5IAAE9+AAADkwAAW3wAANwiAQAE+wAA46gAAFAeAACwHQAA4jEAAMAcAACUJQAAqCUAAKqvAADsSQEABBQBAKRHAABINQAAUGQAAIIUAACGKQAASkcAAGQeAAAKIwAA/GwAAGxSAADUYgAASFgAAKhhAADQUgAAxG0AAJRcAADgYAAAPHMAAL7IAAACxgAAqsMAADK+AADa1AAAHtIAANLNAABizwAALuAAANbdAAAthgAAfTYAAIU9AAABOgAAWTwAAC07AADtNAAAUTUAAKk3AAAZNgAAzGMAACxoAABEWgAAqFUAAAxRAAAMTAAA5FAAAAhfAABsVQAAbFoAAHZrAACeXAAAdlIAAGBKAAB4RgAAZEEAAORDAAAwOQAArDUAAJAzAACYMAAAaC4AALAsAAAiTAAA8kkAAJ5IAAC2RAAA2kMAANo+AAD+OAAAQjYAAIo0AAC+MgAAajEAAI4wAAA6LwAAfjYAAC4xAADONgAAIjMAAP44AADuLwAAmi4AAKRVAQBETAEA0D0BACw3AQCIMAEAlBUBADgcAQBMIQEAEPkAALT/AAD44wAAjNwAAAjZAAA8yAAAeL4AAHC3AAAsugAAiLMAAOSsAADwqgAAzu8AAM7vAACm/gAAOvcAAHbtAAD+zgAA4sIAAGbGAADauwAA+r4AAB65AACatQAAsrEAAC6uAAAKtAAAhrAAAFKoAADOpAAA+qUAAB6gAACanAAAzqQAAPqlAABumwAA+qUAAB6gAABKoQAAbpsAADqTAABmlAAAkpUAAF6NAABitgAA5rkAAEqhAABejQAA2okAAGaUAADSggAATn8AACqFAABWhgAAynsAAE5/AAB6gAAAFpkAAMp7AADOpAAA8p4AABaZAAAzCAEA98YAAGsHAQBPyQAAr+sAAEOyAAD33wAAi6YAAC/fAACrqQAAu9AAAMecAACL2AAAl6QAAIPRAABXngAAb8wAANOaAAC/xwAAT5cAAHvKAADTmgAA08wAAFeeAAAbwQAAy5MAABO6AADvjQAAC7MAABOIAABbrgAAj4QAAKupAAALgQAAU6cAAN9/AACjogAAW3wAAPukAADffwAAS6AAAFt8AACbmwAA13gAAOuWAABTdQAAk5QAACd0AADjjwAAo3AAALD+AACUCwEAZOEAAFQFAQBwEQEA0OgAADzwAAD0+wAAHNQAANDoAACI9AAAeM0AAGT6AAAcBgEADN8AAHTvAAAs+wAAHNQAAAzfAADE6gAAtMMAACziAADk7QAA1MYAACTbAADc5gAAzL8AAFTsAAAM+AAA/NAAAJzgAABU7AAARMUAAPzQAAC03AAApLUAAKTOAABc2gAATLMAAGTIAAAc1AAADK0AAGzPAAAk2wAAFLQAAIzSAABE3gAANLcAACTCAADczQAAzKYAAOS7AACcxwAAjKAAAIy5AABExQAANJ4AAEyzAAAEvwAA9JcAAPSwAACsvAAAnJUAAHxLAQB1/QAAMjwAAFEDAQDkuwAAbD0BAAXNAAB6MAAA6fIAABTNAAAsNwEA7bcAAII3AADp2QAAjLkAANxtAQDl4gAAcikAAAndAAAMrQAArBEBAOXJAADiQAAA0cQAAIygAAC8OAEAXbYAAII3AADxxwAAJMIAAEQBAQDttwAA0jIAAFm/AAAkqQAAjCcBAMWtAAAyPAAA2bIAAEyaAACMJwEAVa8AAII3AAAhwAAADJQAAPQeAQDttwAA0jIAAPGuAAA0ngAAHEIBAG32AADYaAAAqWkAAAidAAAcQgEADdQAAChkAABdTAAAFIIAAIxAAQDNzQAAeF8AAIU9AAAwdQAAJDABADXFAADIWgAAYUMAAIxuAABEGgEAnbwAABhWAACpUAAAQGoAAMQNAQAFtAAAaFEAAKVAAABYZgAARAEBAH25AAC4TAAANUIAAAxiAACsEQEAXbYAAAhIAABJRwAA7F4AAG9FAAAoPAAAgjcAADJLAABfNwAAyDIAAOJAAAAiPQAADzwAABguAAAiLgAAcjgAAK8yAADAKwAAMjwAAMIzAABfNwAAaCkAAII3AADCMwAA/y0AAGgpAADSMgAAgkYAAKcrAAAQJwAAejAAABIvAABPKQAAuCQAACIuAAC6LAAApysAALgkAADSMgAAEi8AAE8pAABgIgAAyisAAGIqAADiuAAALDcBAPY2AAADewAAs0IAAGKsAAD8DAEAli0AAF90AAAPPAAAQqkAAPQeAQDuLwAAl3MAAGs1AAAanwAAJDABAEYyAADTaQAA2zMAAM6aAACsEQEAPisAAFdtAADbMwAAjpQAAIwnAQDmKAAAI2UAAGcvAADGrAAAtP8AAI4mAACzZgAANy0AADKbAAD8DAEANiQAAE9mAAAXKgAAekQAABRLAAA0IQAAVjYAAPggAAD2QAAAcEQAACwaAAD2LAAAaFEAAD41AAA8PAAA1BcAAJ4qAACsHAAAHjIAAMw9AAA8GQAATi8AAOA9AABeOAAAwD8AAHwVAABeLgAAMEMAAP4uAAA0NQAAjBQAAI4rAAAkIgAACi0AAPA3AABsFgAAnioAAJxAAAB6KwAArDoAANQXAABOLwAAeB4AAEokAAA0IQAAND8AACIzAADMMwAAFhwAACwaAABYOQAAtisAAIAvAAAiGgAA1BcAABQ8AACOKwAAsCcAAJ4WAAA8GQAAyDcAADIoAACUJQAAahgAAHwVAAAQNgAAniUAAJAkAAB2GwAAhBwAAEQ0AAASJQAATCcAAGYXAACMFAAApDMAAMIkAAC4JAAArhUAAHwVAABQMgAA/iQAAAAjAAAKHgAAwBcAALZTAACoFgAAyt8AADSZAADyOgAAUBkAAJ4+AABK0wAAVJwAAAIXAABMGAAAXjgAACQTAADSzQAAvJMAAKoUAACkFQAAzjYAANwUAABizwAAVIMAAFISAAAYFQAA6jMAANARAAA6xQAA5IQAAKoUAADYEwAAjjAAAPQQAAASuwAAvHoAALoTAACMFAAAii8AABgQAAB8dAAAUDwAAOghAAAQLAAAsiAAALRGAADYJwAAQC4AAIQhAADwKAAALh0AAFQ9AAA0IQAA+DkAAAwcAADQJQAABh0AAKQ4AADoHAAA8DIAAHQdAACcJwAAchoAAARCAACIHQAAmDAAAFgbAAAEJAAAHhkAAPw6AAB8GgAAsCIAAEIYAACkOAAAYBgAAEAuAAD4GwAAXCEAAH4YAABMNgAAqBYAAJgSAAC4PQAAmCYAAGgpAAAgFwAAyjUAANoRAADcDwAAbDkAAHgjAAAcJQAAQBoAAD4rAACSDgAAiA4AANA5AABcIQAAOCIAAAAUAABCLAAAog0AADwPAABQNwAAyB4AAIAgAACUFgAAligAALIMAAD8DQAASCEAAFg0AADcHgAA3BQAAK4pAAA6DAAAvAwAADA0AABwIQAAJBMAAHomAACENQAAymwAAAI/AADQFgAABiIAABYhAACAEQAAYDsAAHAwAABKYAAAkkAAAOwsAACCHgAAkh0AALQPAACcMQAAsCwAABodAABeOAAA0C8AAC4dAADaGwAAjA8AABguAAAwKgAAIlYAABJDAAAgEgAA7hsAAKoZAABwDQAA/CsAABQoAADSUAAAVjsAADARAACOHAAAjhcAABwMAADMKQAAqBYAAHQ2AAA8IwAAFisAAPIcAAAmIAAAEiAAANYpAAAkEwAACGEAALgfAACSJwAAwhoAAAYdAAAqHAAAiiUAANARAADIWgAAZB4AAGIlAABuGQAAAhwAAJYZAABaIwAA9BAAAORXAAC0HgAA1iQAABoYAABKGgAAQhgAAD4hAACoEQAAiFQAAJgcAAAeIwAAPhcAAPYYAACKFgAAIh8AAKw6AADwPAAALFABAHX9AAB6RAAAFEsAAKlpAABsNAAA0DkAAGw9AQDN/wAA9kAAAHBEAABdTAAACDQAAEw2AAAsNwEA5eIAAD41AAA8PAAAYUMAADAvAADIMgAArEMBAAXNAAAeMgAAzD0AAElHAACYNQAAwDUAANxtAQDttwAA/i4AAMA/AABhQwAA2DEAADgxAAC8OAEA5ckAAF44AAA0NQAAqVAAABQyAAAcLwAAHEIBAF22AAB6KwAA8DcAAKVAAADsMQAALDMAANRNAQDttwAACi0AAKw6AAA1QgAAWC8AAHAwAACMJwEAVa8AAA==",
          "dtype": "i4"
         },
         "y0": " ",
         "yaxis": "y"
        }
       ],
       "layout": {
        "boxmode": "group",
        "legend": {
         "tracegroupgap": 0
        },
        "template": {
         "data": {
          "bar": [
           {
            "error_x": {
             "color": "#2a3f5f"
            },
            "error_y": {
             "color": "#2a3f5f"
            },
            "marker": {
             "line": {
              "color": "#E5ECF6",
              "width": 0.5
             },
             "pattern": {
              "fillmode": "overlay",
              "size": 10,
              "solidity": 0.2
             }
            },
            "type": "bar"
           }
          ],
          "barpolar": [
           {
            "marker": {
             "line": {
              "color": "#E5ECF6",
              "width": 0.5
             },
             "pattern": {
              "fillmode": "overlay",
              "size": 10,
              "solidity": 0.2
             }
            },
            "type": "barpolar"
           }
          ],
          "carpet": [
           {
            "aaxis": {
             "endlinecolor": "#2a3f5f",
             "gridcolor": "white",
             "linecolor": "white",
             "minorgridcolor": "white",
             "startlinecolor": "#2a3f5f"
            },
            "baxis": {
             "endlinecolor": "#2a3f5f",
             "gridcolor": "white",
             "linecolor": "white",
             "minorgridcolor": "white",
             "startlinecolor": "#2a3f5f"
            },
            "type": "carpet"
           }
          ],
          "choropleth": [
           {
            "colorbar": {
             "outlinewidth": 0,
             "ticks": ""
            },
            "type": "choropleth"
           }
          ],
          "contour": [
           {
            "colorbar": {
             "outlinewidth": 0,
             "ticks": ""
            },
            "colorscale": [
             [
              0,
              "#0d0887"
             ],
             [
              0.1111111111111111,
              "#46039f"
             ],
             [
              0.2222222222222222,
              "#7201a8"
             ],
             [
              0.3333333333333333,
              "#9c179e"
             ],
             [
              0.4444444444444444,
              "#bd3786"
             ],
             [
              0.5555555555555556,
              "#d8576b"
             ],
             [
              0.6666666666666666,
              "#ed7953"
             ],
             [
              0.7777777777777778,
              "#fb9f3a"
             ],
             [
              0.8888888888888888,
              "#fdca26"
             ],
             [
              1,
              "#f0f921"
             ]
            ],
            "type": "contour"
           }
          ],
          "contourcarpet": [
           {
            "colorbar": {
             "outlinewidth": 0,
             "ticks": ""
            },
            "type": "contourcarpet"
           }
          ],
          "heatmap": [
           {
            "colorbar": {
             "outlinewidth": 0,
             "ticks": ""
            },
            "colorscale": [
             [
              0,
              "#0d0887"
             ],
             [
              0.1111111111111111,
              "#46039f"
             ],
             [
              0.2222222222222222,
              "#7201a8"
             ],
             [
              0.3333333333333333,
              "#9c179e"
             ],
             [
              0.4444444444444444,
              "#bd3786"
             ],
             [
              0.5555555555555556,
              "#d8576b"
             ],
             [
              0.6666666666666666,
              "#ed7953"
             ],
             [
              0.7777777777777778,
              "#fb9f3a"
             ],
             [
              0.8888888888888888,
              "#fdca26"
             ],
             [
              1,
              "#f0f921"
             ]
            ],
            "type": "heatmap"
           }
          ],
          "histogram": [
           {
            "marker": {
             "pattern": {
              "fillmode": "overlay",
              "size": 10,
              "solidity": 0.2
             }
            },
            "type": "histogram"
           }
          ],
          "histogram2d": [
           {
            "colorbar": {
             "outlinewidth": 0,
             "ticks": ""
            },
            "colorscale": [
             [
              0,
              "#0d0887"
             ],
             [
              0.1111111111111111,
              "#46039f"
             ],
             [
              0.2222222222222222,
              "#7201a8"
             ],
             [
              0.3333333333333333,
              "#9c179e"
             ],
             [
              0.4444444444444444,
              "#bd3786"
             ],
             [
              0.5555555555555556,
              "#d8576b"
             ],
             [
              0.6666666666666666,
              "#ed7953"
             ],
             [
              0.7777777777777778,
              "#fb9f3a"
             ],
             [
              0.8888888888888888,
              "#fdca26"
             ],
             [
              1,
              "#f0f921"
             ]
            ],
            "type": "histogram2d"
           }
          ],
          "histogram2dcontour": [
           {
            "colorbar": {
             "outlinewidth": 0,
             "ticks": ""
            },
            "colorscale": [
             [
              0,
              "#0d0887"
             ],
             [
              0.1111111111111111,
              "#46039f"
             ],
             [
              0.2222222222222222,
              "#7201a8"
             ],
             [
              0.3333333333333333,
              "#9c179e"
             ],
             [
              0.4444444444444444,
              "#bd3786"
             ],
             [
              0.5555555555555556,
              "#d8576b"
             ],
             [
              0.6666666666666666,
              "#ed7953"
             ],
             [
              0.7777777777777778,
              "#fb9f3a"
             ],
             [
              0.8888888888888888,
              "#fdca26"
             ],
             [
              1,
              "#f0f921"
             ]
            ],
            "type": "histogram2dcontour"
           }
          ],
          "mesh3d": [
           {
            "colorbar": {
             "outlinewidth": 0,
             "ticks": ""
            },
            "type": "mesh3d"
           }
          ],
          "parcoords": [
           {
            "line": {
             "colorbar": {
              "outlinewidth": 0,
              "ticks": ""
             }
            },
            "type": "parcoords"
           }
          ],
          "pie": [
           {
            "automargin": true,
            "type": "pie"
           }
          ],
          "scatter": [
           {
            "fillpattern": {
             "fillmode": "overlay",
             "size": 10,
             "solidity": 0.2
            },
            "type": "scatter"
           }
          ],
          "scatter3d": [
           {
            "line": {
             "colorbar": {
              "outlinewidth": 0,
              "ticks": ""
             }
            },
            "marker": {
             "colorbar": {
              "outlinewidth": 0,
              "ticks": ""
             }
            },
            "type": "scatter3d"
           }
          ],
          "scattercarpet": [
           {
            "marker": {
             "colorbar": {
              "outlinewidth": 0,
              "ticks": ""
             }
            },
            "type": "scattercarpet"
           }
          ],
          "scattergeo": [
           {
            "marker": {
             "colorbar": {
              "outlinewidth": 0,
              "ticks": ""
             }
            },
            "type": "scattergeo"
           }
          ],
          "scattergl": [
           {
            "marker": {
             "colorbar": {
              "outlinewidth": 0,
              "ticks": ""
             }
            },
            "type": "scattergl"
           }
          ],
          "scattermap": [
           {
            "marker": {
             "colorbar": {
              "outlinewidth": 0,
              "ticks": ""
             }
            },
            "type": "scattermap"
           }
          ],
          "scattermapbox": [
           {
            "marker": {
             "colorbar": {
              "outlinewidth": 0,
              "ticks": ""
             }
            },
            "type": "scattermapbox"
           }
          ],
          "scatterpolar": [
           {
            "marker": {
             "colorbar": {
              "outlinewidth": 0,
              "ticks": ""
             }
            },
            "type": "scatterpolar"
           }
          ],
          "scatterpolargl": [
           {
            "marker": {
             "colorbar": {
              "outlinewidth": 0,
              "ticks": ""
             }
            },
            "type": "scatterpolargl"
           }
          ],
          "scatterternary": [
           {
            "marker": {
             "colorbar": {
              "outlinewidth": 0,
              "ticks": ""
             }
            },
            "type": "scatterternary"
           }
          ],
          "surface": [
           {
            "colorbar": {
             "outlinewidth": 0,
             "ticks": ""
            },
            "colorscale": [
             [
              0,
              "#0d0887"
             ],
             [
              0.1111111111111111,
              "#46039f"
             ],
             [
              0.2222222222222222,
              "#7201a8"
             ],
             [
              0.3333333333333333,
              "#9c179e"
             ],
             [
              0.4444444444444444,
              "#bd3786"
             ],
             [
              0.5555555555555556,
              "#d8576b"
             ],
             [
              0.6666666666666666,
              "#ed7953"
             ],
             [
              0.7777777777777778,
              "#fb9f3a"
             ],
             [
              0.8888888888888888,
              "#fdca26"
             ],
             [
              1,
              "#f0f921"
             ]
            ],
            "type": "surface"
           }
          ],
          "table": [
           {
            "cells": {
             "fill": {
              "color": "#EBF0F8"
             },
             "line": {
              "color": "white"
             }
            },
            "header": {
             "fill": {
              "color": "#C8D4E3"
             },
             "line": {
              "color": "white"
             }
            },
            "type": "table"
           }
          ]
         },
         "layout": {
          "annotationdefaults": {
           "arrowcolor": "#2a3f5f",
           "arrowhead": 0,
           "arrowwidth": 1
          },
          "autotypenumbers": "strict",
          "coloraxis": {
           "colorbar": {
            "outlinewidth": 0,
            "ticks": ""
           }
          },
          "colorscale": {
           "diverging": [
            [
             0,
             "#8e0152"
            ],
            [
             0.1,
             "#c51b7d"
            ],
            [
             0.2,
             "#de77ae"
            ],
            [
             0.3,
             "#f1b6da"
            ],
            [
             0.4,
             "#fde0ef"
            ],
            [
             0.5,
             "#f7f7f7"
            ],
            [
             0.6,
             "#e6f5d0"
            ],
            [
             0.7,
             "#b8e186"
            ],
            [
             0.8,
             "#7fbc41"
            ],
            [
             0.9,
             "#4d9221"
            ],
            [
             1,
             "#276419"
            ]
           ],
           "sequential": [
            [
             0,
             "#0d0887"
            ],
            [
             0.1111111111111111,
             "#46039f"
            ],
            [
             0.2222222222222222,
             "#7201a8"
            ],
            [
             0.3333333333333333,
             "#9c179e"
            ],
            [
             0.4444444444444444,
             "#bd3786"
            ],
            [
             0.5555555555555556,
             "#d8576b"
            ],
            [
             0.6666666666666666,
             "#ed7953"
            ],
            [
             0.7777777777777778,
             "#fb9f3a"
            ],
            [
             0.8888888888888888,
             "#fdca26"
            ],
            [
             1,
             "#f0f921"
            ]
           ],
           "sequentialminus": [
            [
             0,
             "#0d0887"
            ],
            [
             0.1111111111111111,
             "#46039f"
            ],
            [
             0.2222222222222222,
             "#7201a8"
            ],
            [
             0.3333333333333333,
             "#9c179e"
            ],
            [
             0.4444444444444444,
             "#bd3786"
            ],
            [
             0.5555555555555556,
             "#d8576b"
            ],
            [
             0.6666666666666666,
             "#ed7953"
            ],
            [
             0.7777777777777778,
             "#fb9f3a"
            ],
            [
             0.8888888888888888,
             "#fdca26"
            ],
            [
             1,
             "#f0f921"
            ]
           ]
          },
          "colorway": [
           "#636efa",
           "#EF553B",
           "#00cc96",
           "#ab63fa",
           "#FFA15A",
           "#19d3f3",
           "#FF6692",
           "#B6E880",
           "#FF97FF",
           "#FECB52"
          ],
          "font": {
           "color": "#2a3f5f"
          },
          "geo": {
           "bgcolor": "white",
           "lakecolor": "white",
           "landcolor": "#E5ECF6",
           "showlakes": true,
           "showland": true,
           "subunitcolor": "white"
          },
          "hoverlabel": {
           "align": "left"
          },
          "hovermode": "closest",
          "mapbox": {
           "style": "light"
          },
          "paper_bgcolor": "white",
          "plot_bgcolor": "#E5ECF6",
          "polar": {
           "angularaxis": {
            "gridcolor": "white",
            "linecolor": "white",
            "ticks": ""
           },
           "bgcolor": "#E5ECF6",
           "radialaxis": {
            "gridcolor": "white",
            "linecolor": "white",
            "ticks": ""
           }
          },
          "scene": {
           "xaxis": {
            "backgroundcolor": "#E5ECF6",
            "gridcolor": "white",
            "gridwidth": 2,
            "linecolor": "white",
            "showbackground": true,
            "ticks": "",
            "zerolinecolor": "white"
           },
           "yaxis": {
            "backgroundcolor": "#E5ECF6",
            "gridcolor": "white",
            "gridwidth": 2,
            "linecolor": "white",
            "showbackground": true,
            "ticks": "",
            "zerolinecolor": "white"
           },
           "zaxis": {
            "backgroundcolor": "#E5ECF6",
            "gridcolor": "white",
            "gridwidth": 2,
            "linecolor": "white",
            "showbackground": true,
            "ticks": "",
            "zerolinecolor": "white"
           }
          },
          "shapedefaults": {
           "line": {
            "color": "#2a3f5f"
           }
          },
          "ternary": {
           "aaxis": {
            "gridcolor": "white",
            "linecolor": "white",
            "ticks": ""
           },
           "baxis": {
            "gridcolor": "white",
            "linecolor": "white",
            "ticks": ""
           },
           "bgcolor": "#E5ECF6",
           "caxis": {
            "gridcolor": "white",
            "linecolor": "white",
            "ticks": ""
           }
          },
          "title": {
           "x": 0.05
          },
          "xaxis": {
           "automargin": true,
           "gridcolor": "white",
           "linecolor": "white",
           "ticks": "",
           "title": {
            "standoff": 15
           },
           "zerolinecolor": "white",
           "zerolinewidth": 2
          },
          "yaxis": {
           "automargin": true,
           "gridcolor": "white",
           "linecolor": "white",
           "ticks": "",
           "title": {
            "standoff": 15
           },
           "zerolinecolor": "white",
           "zerolinewidth": 2
          }
         }
        },
        "title": {
         "text": "TCA Distribution by Degree Level"
        },
        "xaxis": {
         "anchor": "y",
         "domain": [
          0,
          1
         ],
         "title": {
          "text": "Level"
         }
        },
        "yaxis": {
         "anchor": "x",
         "domain": [
          0,
          1
         ],
         "title": {
          "text": "TCA"
         }
        }
       }
      }
     },
     "metadata": {},
     "output_type": "display_data"
    }
   ],
   "source": [
    "import plotly.express as px\n",
    "\n",
    "# Average TCA by Country\n",
    "avg_tca_country = df.groupby('Country')['TCA'].mean().reset_index()\n",
    "fig = px.bar(avg_tca_country.sort_values(by='TCA', ascending=False), x='Country', y='TCA', title='Average TCA by Country')\n",
    "fig.show()\n",
    "\n",
    "# TCA by Level\n",
    "fig = px.box(df, x='Level', y='TCA', title='TCA Distribution by Degree Level')\n",
    "fig.show()\n"
   ]
  },
  {
   "cell_type": "code",
   "execution_count": null,
   "id": "204e42d4",
   "metadata": {},
   "outputs": [],
   "source": []
  },
  {
   "cell_type": "code",
   "execution_count": 10,
   "id": "73cbe356",
   "metadata": {},
   "outputs": [
    {
     "data": {
      "text/html": [
       "<div>\n",
       "<style scoped>\n",
       "    .dataframe tbody tr th:only-of-type {\n",
       "        vertical-align: middle;\n",
       "    }\n",
       "\n",
       "    .dataframe tbody tr th {\n",
       "        vertical-align: top;\n",
       "    }\n",
       "\n",
       "    .dataframe thead th {\n",
       "        text-align: right;\n",
       "    }\n",
       "</style>\n",
       "<table border=\"1\" class=\"dataframe\">\n",
       "  <thead>\n",
       "    <tr style=\"text-align: right;\">\n",
       "      <th></th>\n",
       "      <th>TCA</th>\n",
       "      <th>Affordability_Tier</th>\n",
       "    </tr>\n",
       "  </thead>\n",
       "  <tbody>\n",
       "    <tr>\n",
       "      <th>0</th>\n",
       "      <td>83460</td>\n",
       "      <td>High</td>\n",
       "    </tr>\n",
       "    <tr>\n",
       "      <th>1</th>\n",
       "      <td>64085</td>\n",
       "      <td>High</td>\n",
       "    </tr>\n",
       "    <tr>\n",
       "      <th>2</th>\n",
       "      <td>58835</td>\n",
       "      <td>High</td>\n",
       "    </tr>\n",
       "    <tr>\n",
       "      <th>3</th>\n",
       "      <td>59900</td>\n",
       "      <td>High</td>\n",
       "    </tr>\n",
       "    <tr>\n",
       "      <th>4</th>\n",
       "      <td>14325</td>\n",
       "      <td>Medium</td>\n",
       "    </tr>\n",
       "  </tbody>\n",
       "</table>\n",
       "</div>"
      ],
      "text/plain": [
       "     TCA Affordability_Tier\n",
       "0  83460               High\n",
       "1  64085               High\n",
       "2  58835               High\n",
       "3  59900               High\n",
       "4  14325             Medium"
      ]
     },
     "execution_count": 10,
     "metadata": {},
     "output_type": "execute_result"
    }
   ],
   "source": [
    "# Creating labels as Low/Medium/High using quantiles\n",
    "df['Affordability_Tier'] = pd.qcut(df['TCA'], q=3, labels=['Low', 'Medium', 'High'])\n",
    "df[['TCA', 'Affordability_Tier']].head()\n"
   ]
  },
  {
   "cell_type": "code",
   "execution_count": 11,
   "id": "ec8fcace",
   "metadata": {},
   "outputs": [
    {
     "data": {
      "application/vnd.plotly.v1+json": {
       "config": {
        "plotlyServerURL": "https://plot.ly"
       },
       "data": [
        {
         "alignmentgroup": "True",
         "hovertemplate": "Affordability_Tier=%{x}<br>TCA=%{y}<extra></extra>",
         "legendgroup": "",
         "marker": {
          "color": "#636efa"
         },
         "name": "",
         "notched": false,
         "offsetgroup": "",
         "orientation": "v",
         "showlegend": false,
         "type": "box",
         "x": [
          "High",
          "High",
          "High",
          "High",
          "Medium",
          "Medium",
          "Medium",
          "High",
          "Medium",
          "Medium",
          "Medium",
          "Medium",
          "Medium",
          "Medium",
          "High",
          "Medium",
          "High",
          "Medium",
          "Medium",
          "High",
          "High",
          "High",
          "High",
          "High",
          "High",
          "Medium",
          "Medium",
          "Medium",
          "Medium",
          "High",
          "High",
          "High",
          "High",
          "Low",
          "Medium",
          "Medium",
          "Medium",
          "Medium",
          "High",
          "Low",
          "High",
          "High",
          "Medium",
          "High",
          "Low",
          "Low",
          "Low",
          "Medium",
          "Medium",
          "Low",
          "High",
          "High",
          "High",
          "High",
          "Low",
          "Medium",
          "Medium",
          "Medium",
          "Medium",
          "Medium",
          "Medium",
          "Medium",
          "Medium",
          "Medium",
          "Medium",
          "Medium",
          "Medium",
          "Medium",
          "Medium",
          "Medium",
          "Medium",
          "High",
          "High",
          "High",
          "High",
          "High",
          "High",
          "High",
          "High",
          "High",
          "High",
          "Low",
          "Low",
          "Low",
          "Low",
          "Low",
          "Low",
          "Low",
          "Low",
          "Low",
          "Low",
          "High",
          "High",
          "High",
          "High",
          "High",
          "High",
          "High",
          "High",
          "High",
          "High",
          "High",
          "High",
          "High",
          "Medium",
          "High",
          "High",
          "Medium",
          "High",
          "Medium",
          "High",
          "High",
          "High",
          "High",
          "High",
          "Medium",
          "Medium",
          "Medium",
          "Medium",
          "Medium",
          "Medium",
          "High",
          "High",
          "High",
          "Low",
          "Low",
          "Low",
          "Low",
          "Low",
          "Low",
          "High",
          "High",
          "High",
          "Medium",
          "Medium",
          "Medium",
          "Low",
          "Low",
          "Medium",
          "Low",
          "Low",
          "Medium",
          "Medium",
          "Medium",
          "Medium",
          "Medium",
          "Medium",
          "Medium",
          "Medium",
          "Medium",
          "Medium",
          "High",
          "High",
          "High",
          "High",
          "High",
          "High",
          "High",
          "High",
          "High",
          "High",
          "Medium",
          "Medium",
          "Medium",
          "Medium",
          "Medium",
          "Medium",
          "Medium",
          "Medium",
          "Medium",
          "Medium",
          "Medium",
          "Medium",
          "Medium",
          "Medium",
          "Medium",
          "Medium",
          "Medium",
          "Medium",
          "Medium",
          "Medium",
          "Medium",
          "Medium",
          "Medium",
          "Medium",
          "Medium",
          "Medium",
          "Medium",
          "Medium",
          "Medium",
          "Low",
          "Low",
          "Low",
          "Low",
          "Medium",
          "Medium",
          "Medium",
          "Medium",
          "Medium",
          "Medium",
          "Medium",
          "Medium",
          "Medium",
          "Low",
          "Low",
          "Low",
          "Low",
          "Medium",
          "Low",
          "Medium",
          "Low",
          "Medium",
          "Low",
          "Low",
          "High",
          "High",
          "High",
          "High",
          "High",
          "High",
          "High",
          "High",
          "High",
          "High",
          "High",
          "High",
          "High",
          "High",
          "High",
          "High",
          "High",
          "High",
          "High",
          "High",
          "High",
          "High",
          "High",
          "High",
          "High",
          "High",
          "High",
          "High",
          "High",
          "High",
          "High",
          "High",
          "High",
          "High",
          "High",
          "High",
          "High",
          "High",
          "High",
          "High",
          "Medium",
          "High",
          "High",
          "Medium",
          "High",
          "High",
          "High",
          "Medium",
          "Medium",
          "Medium",
          "Medium",
          "Medium",
          "High",
          "High",
          "High",
          "Medium",
          "Medium",
          "Medium",
          "Medium",
          "Medium",
          "Medium",
          "Medium",
          "Medium",
          "Medium",
          "Medium",
          "Medium",
          "Medium",
          "High",
          "High",
          "Medium",
          "High",
          "High",
          "High",
          "High",
          "High",
          "High",
          "High",
          "High",
          "High",
          "High",
          "High",
          "Medium",
          "High",
          "High",
          "High",
          "High",
          "High",
          "Medium",
          "High",
          "Medium",
          "High",
          "Medium",
          "High",
          "High",
          "High",
          "Medium",
          "High",
          "Medium",
          "High",
          "Medium",
          "High",
          "Medium",
          "High",
          "Medium",
          "High",
          "Medium",
          "High",
          "Medium",
          "High",
          "Medium",
          "High",
          "Medium",
          "Medium",
          "Medium",
          "Medium",
          "Medium",
          "Medium",
          "Medium",
          "Medium",
          "Medium",
          "High",
          "High",
          "High",
          "High",
          "High",
          "High",
          "High",
          "High",
          "High",
          "High",
          "High",
          "High",
          "High",
          "High",
          "High",
          "High",
          "High",
          "High",
          "High",
          "High",
          "High",
          "High",
          "High",
          "High",
          "High",
          "High",
          "High",
          "High",
          "High",
          "High",
          "High",
          "High",
          "High",
          "High",
          "High",
          "High",
          "High",
          "High",
          "High",
          "High",
          "High",
          "High",
          "High",
          "High",
          "High",
          "High",
          "High",
          "High",
          "High",
          "High",
          "High",
          "High",
          "High",
          "High",
          "High",
          "High",
          "High",
          "High",
          "High",
          "Medium",
          "High",
          "High",
          "Medium",
          "High",
          "High",
          "Medium",
          "High",
          "High",
          "High",
          "High",
          "Low",
          "High",
          "High",
          "High",
          "High",
          "Medium",
          "High",
          "High",
          "High",
          "High",
          "Low",
          "High",
          "High",
          "High",
          "High",
          "Medium",
          "High",
          "High",
          "High",
          "High",
          "Medium",
          "High",
          "High",
          "High",
          "High",
          "Low",
          "High",
          "High",
          "High",
          "High",
          "Medium",
          "High",
          "Medium",
          "High",
          "High",
          "Medium",
          "High",
          "Medium",
          "High",
          "High",
          "Low",
          "High",
          "High",
          "High",
          "High",
          "Medium",
          "Medium",
          "Medium",
          "High",
          "High",
          "Medium",
          "Medium",
          "Medium",
          "High",
          "High",
          "Medium",
          "Medium",
          "Medium",
          "High",
          "High",
          "Medium",
          "Medium",
          "Medium",
          "High",
          "High",
          "Medium",
          "Medium",
          "Medium",
          "High",
          "High",
          "Medium",
          "Medium",
          "Medium",
          "High",
          "High",
          "Medium",
          "Medium",
          "Medium",
          "High",
          "High",
          "Medium",
          "Medium",
          "Medium",
          "Medium",
          "Medium",
          "Medium",
          "Medium",
          "Medium",
          "Low",
          "Medium",
          "Medium",
          "Medium",
          "Low",
          "Low",
          "Medium",
          "Low",
          "Low",
          "Medium",
          "Low",
          "Medium",
          "Low",
          "Medium",
          "Low",
          "Low",
          "Low",
          "Low",
          "Medium",
          "Low",
          "Low",
          "Low",
          "Low",
          "Low",
          "Low",
          "Low",
          "Low",
          "Low",
          "Low",
          "Low",
          "Low",
          "Low",
          "Low",
          "Low",
          "Low",
          "High",
          "High",
          "Medium",
          "Medium",
          "Medium",
          "High",
          "High",
          "Low",
          "Medium",
          "Medium",
          "High",
          "High",
          "Low",
          "Medium",
          "Medium",
          "High",
          "High",
          "Low",
          "Medium",
          "Low",
          "Medium",
          "High",
          "Low",
          "Medium",
          "Low",
          "Medium",
          "High",
          "Low",
          "Medium",
          "Low",
          "High",
          "High",
          "Low",
          "Medium",
          "Low",
          "Medium",
          "High",
          "Low",
          "Medium",
          "Low",
          "Medium",
          "Medium",
          "Low",
          "Medium",
          "Low",
          "Medium",
          "Medium",
          "Low",
          "Low",
          "Medium",
          "Medium",
          "Medium",
          "Low",
          "Low",
          "Low",
          "Low",
          "Medium",
          "Low",
          "Low",
          "Medium",
          "Medium",
          "Medium",
          "Low",
          "Low",
          "Medium",
          "Low",
          "Medium",
          "Low",
          "Low",
          "Low",
          "Low",
          "Medium",
          "Low",
          "Low",
          "Medium",
          "Low",
          "Medium",
          "Low",
          "Low",
          "Low",
          "Low",
          "Low",
          "Medium",
          "Low",
          "Low",
          "Low",
          "Low",
          "Medium",
          "Low",
          "Low",
          "Low",
          "Low",
          "Medium",
          "Low",
          "Low",
          "Low",
          "Low",
          "Medium",
          "Low",
          "Low",
          "Low",
          "Low",
          "Medium",
          "Low",
          "Low",
          "Low",
          "Low",
          "Medium",
          "Low",
          "Low",
          "Low",
          "Low",
          "Low",
          "Low",
          "Low",
          "Low",
          "Low",
          "Low",
          "Low",
          "Low",
          "Low",
          "Low",
          "Medium",
          "Low",
          "High",
          "Medium",
          "Medium",
          "Low",
          "Medium",
          "High",
          "Medium",
          "Low",
          "Low",
          "Medium",
          "Low",
          "High",
          "Medium",
          "Low",
          "Low",
          "Medium",
          "Low",
          "High",
          "Medium",
          "Low",
          "Low",
          "Low",
          "Low",
          "High",
          "Medium",
          "Low",
          "Low",
          "Low",
          "Low",
          "High",
          "Medium",
          "Low",
          "Low",
          "Low",
          "Low",
          "Medium",
          "Medium",
          "Low",
          "Low",
          "Low",
          "Medium",
          "Low",
          "Low",
          "Low",
          "Low",
          "Low",
          "Medium",
          "Low",
          "Medium",
          "Low",
          "Low",
          "Low",
          "Medium",
          "Low",
          "Low",
          "Low",
          "Low",
          "Low",
          "Medium",
          "Low",
          "Low",
          "Low",
          "Low",
          "Low",
          "Medium",
          "Low",
          "Low",
          "Low",
          "Medium",
          "Low",
          "Low",
          "Low",
          "Low",
          "Low",
          "Medium",
          "Low",
          "Low",
          "Medium",
          "Low",
          "Low",
          "Low",
          "Medium",
          "Low",
          "Low",
          "Medium",
          "Low",
          "Low",
          "Low",
          "Low",
          "Low",
          "Low",
          "Medium",
          "Low",
          "Low",
          "Low",
          "Low",
          "Low",
          "Low",
          "Medium",
          "Low",
          "Low",
          "Low",
          "Low",
          "Low",
          "Low",
          "Low",
          "Medium",
          "Low",
          "Low",
          "Low",
          "Low",
          "Low",
          "Medium",
          "Low",
          "Low",
          "Low",
          "Medium",
          "Medium",
          "Medium",
          "Low",
          "Low",
          "Low",
          "Low",
          "Medium",
          "Low",
          "Medium",
          "Medium",
          "Low",
          "Low",
          "Low",
          "Low",
          "Low",
          "Low",
          "Low",
          "Medium",
          "Low",
          "Low",
          "Low",
          "Low",
          "Low",
          "Low",
          "Medium",
          "Medium",
          "Low",
          "Low",
          "Low",
          "Low",
          "Low",
          "Low",
          "Medium",
          "Medium",
          "Low",
          "Low",
          "Low",
          "Low",
          "Low",
          "Low",
          "Medium",
          "Low",
          "Low",
          "Low",
          "Low",
          "Low",
          "Low",
          "Low",
          "Medium",
          "Low",
          "Low",
          "Low",
          "Low",
          "Low",
          "Low",
          "Low",
          "Medium",
          "Low",
          "Low",
          "Low",
          "Low",
          "Low",
          "Low",
          "Low",
          "Medium",
          "Low",
          "Low",
          "Low",
          "Low",
          "Low",
          "Low",
          "Low",
          "Medium",
          "Low",
          "Low",
          "Low",
          "Low",
          "Low",
          "Low",
          "Medium",
          "Medium",
          "High",
          "High",
          "Medium",
          "Medium",
          "Medium",
          "Medium",
          "Medium",
          "High",
          "High",
          "Medium",
          "Medium",
          "Medium",
          "Medium",
          "Medium",
          "High",
          "High",
          "Medium",
          "Medium",
          "Medium",
          "Low",
          "Low",
          "High",
          "High",
          "Low",
          "Medium",
          "Medium",
          "Medium",
          "Medium",
          "High",
          "High",
          "Low",
          "Medium",
          "Medium",
          "Low",
          "Low",
          "High",
          "High",
          "Medium",
          "Medium",
          "Medium",
          "Low",
          "Low",
          "High",
          "High",
          "Low",
          "Medium",
          "Medium",
          "Low",
          "Low",
          "High",
          "High",
          "Low",
          "Medium",
          "Medium",
          "Low",
          "Low",
          "High",
          "High"
         ],
         "x0": " ",
         "xaxis": "x",
         "y": {
          "bdata": "BEYBAFX6AADT5QAA/OkAAPU3AAB+YwAAjIcAAELlAAAhVgAALG0AAD46AAAqPwAAYEoAAMZIAAAEvwAAUjoAAOGqAAD4NAAAZj8AACgnAQBEAQEAQPEAAHWyAABDsgAAEJ8AAGY1AADWagAAbjcAALRGAAAERgEAxD8BAG3EAACVzgAAlS4AAERfAACETgAAPnEAAFuVAABUugAA3jAAADQMAQAw/AAAv5UAAHG7AAAoIwAAaiwAAP4uAAB4mwAAOj4AAMorAABQGAEARboAAP/NAAAE2AAAoSwAAAw6AAD6RgAANGwAAJg1AADpQwAAikgAAC5PAABqRQAASkIAADY9AAA2PQAAHloAAAo8AAB2QwAA9jYAAEI7AAD8twAAUMMAALyxAAAkqQAAOK4AAAi2AADkogAAtKoAAGimAABIowAAjScAAAssAADtMAAANSUAAOUpAABbJwAA3SIAAFMgAACNJwAA5SkAAEgqAQDsMAEAjCcBAOwXAQD4FQEAVN0AAFzkAAD07AAA0PIAAFz9AAA19wAA4aAAAKXDAADZmQAAyaQAAMWtAADBnQAAZaQAAJmTAADVogAAo7sAAGesAAADrAAAW64AAJuCAACnmQAAO5IAAE9+AAADkwAAW3wAANwiAQAE+wAA46gAAFAeAACwHQAA4jEAAMAcAACUJQAAqCUAAKqvAADsSQEABBQBAKRHAABINQAAUGQAAIIUAACGKQAASkcAAGQeAAAKIwAA/GwAAGxSAADUYgAASFgAAKhhAADQUgAAxG0AAJRcAADgYAAAPHMAAL7IAAACxgAAqsMAADK+AADa1AAAHtIAANLNAABizwAALuAAANbdAAAthgAAfTYAAIU9AAABOgAAWTwAAC07AADtNAAAUTUAAKk3AAAZNgAAzGMAACxoAABEWgAAqFUAAAxRAAAMTAAA5FAAAAhfAABsVQAAbFoAAHZrAACeXAAAdlIAAGBKAAB4RgAAZEEAAORDAAAwOQAArDUAAJAzAACYMAAAaC4AALAsAAAiTAAA8kkAAJ5IAAC2RAAA2kMAANo+AAD+OAAAQjYAAIo0AAC+MgAAajEAAI4wAAA6LwAAfjYAAC4xAADONgAAIjMAAP44AADuLwAAmi4AAKRVAQBETAEA0D0BACw3AQCIMAEAlBUBADgcAQBMIQEAEPkAALT/AAD44wAAjNwAAAjZAAA8yAAAeL4AAHC3AAAsugAAiLMAAOSsAADwqgAAzu8AAM7vAACm/gAAOvcAAHbtAAD+zgAA4sIAAGbGAADauwAA+r4AAB65AACatQAAsrEAAC6uAAAKtAAAhrAAAFKoAADOpAAA+qUAAB6gAACanAAAzqQAAPqlAABumwAA+qUAAB6gAABKoQAAbpsAADqTAABmlAAAkpUAAF6NAABitgAA5rkAAEqhAABejQAA2okAAGaUAADSggAATn8AACqFAABWhgAAynsAAE5/AAB6gAAAFpkAAMp7AADOpAAA8p4AABaZAAAzCAEA98YAAGsHAQBPyQAAr+sAAEOyAAD33wAAi6YAAC/fAACrqQAAu9AAAMecAACL2AAAl6QAAIPRAABXngAAb8wAANOaAAC/xwAAT5cAAHvKAADTmgAA08wAAFeeAAAbwQAAy5MAABO6AADvjQAAC7MAABOIAABbrgAAj4QAAKupAAALgQAAU6cAAN9/AACjogAAW3wAAPukAADffwAAS6AAAFt8AACbmwAA13gAAOuWAABTdQAAk5QAACd0AADjjwAAo3AAALD+AACUCwEAZOEAAFQFAQBwEQEA0OgAADzwAAD0+wAAHNQAANDoAACI9AAAeM0AAGT6AAAcBgEADN8AAHTvAAAs+wAAHNQAAAzfAADE6gAAtMMAACziAADk7QAA1MYAACTbAADc5gAAzL8AAFTsAAAM+AAA/NAAAJzgAABU7AAARMUAAPzQAAC03AAApLUAAKTOAABc2gAATLMAAGTIAAAc1AAADK0AAGzPAAAk2wAAFLQAAIzSAABE3gAANLcAACTCAADczQAAzKYAAOS7AACcxwAAjKAAAIy5AABExQAANJ4AAEyzAAAEvwAA9JcAAPSwAACsvAAAnJUAAHxLAQB1/QAAMjwAAFEDAQDkuwAAbD0BAAXNAAB6MAAA6fIAABTNAAAsNwEA7bcAAII3AADp2QAAjLkAANxtAQDl4gAAcikAAAndAAAMrQAArBEBAOXJAADiQAAA0cQAAIygAAC8OAEAXbYAAII3AADxxwAAJMIAAEQBAQDttwAA0jIAAFm/AAAkqQAAjCcBAMWtAAAyPAAA2bIAAEyaAACMJwEAVa8AAII3AAAhwAAADJQAAPQeAQDttwAA0jIAAPGuAAA0ngAAHEIBAG32AADYaAAAqWkAAAidAAAcQgEADdQAAChkAABdTAAAFIIAAIxAAQDNzQAAeF8AAIU9AAAwdQAAJDABADXFAADIWgAAYUMAAIxuAABEGgEAnbwAABhWAACpUAAAQGoAAMQNAQAFtAAAaFEAAKVAAABYZgAARAEBAH25AAC4TAAANUIAAAxiAACsEQEAXbYAAAhIAABJRwAA7F4AAG9FAAAoPAAAgjcAADJLAABfNwAAyDIAAOJAAAAiPQAADzwAABguAAAiLgAAcjgAAK8yAADAKwAAMjwAAMIzAABfNwAAaCkAAII3AADCMwAA/y0AAGgpAADSMgAAgkYAAKcrAAAQJwAAejAAABIvAABPKQAAuCQAACIuAAC6LAAApysAALgkAADSMgAAEi8AAE8pAABgIgAAyisAAGIqAADiuAAALDcBAPY2AAADewAAs0IAAGKsAAD8DAEAli0AAF90AAAPPAAAQqkAAPQeAQDuLwAAl3MAAGs1AAAanwAAJDABAEYyAADTaQAA2zMAAM6aAACsEQEAPisAAFdtAADbMwAAjpQAAIwnAQDmKAAAI2UAAGcvAADGrAAAtP8AAI4mAACzZgAANy0AADKbAAD8DAEANiQAAE9mAAAXKgAAekQAABRLAAA0IQAAVjYAAPggAAD2QAAAcEQAACwaAAD2LAAAaFEAAD41AAA8PAAA1BcAAJ4qAACsHAAAHjIAAMw9AAA8GQAATi8AAOA9AABeOAAAwD8AAHwVAABeLgAAMEMAAP4uAAA0NQAAjBQAAI4rAAAkIgAACi0AAPA3AABsFgAAnioAAJxAAAB6KwAArDoAANQXAABOLwAAeB4AAEokAAA0IQAAND8AACIzAADMMwAAFhwAACwaAABYOQAAtisAAIAvAAAiGgAA1BcAABQ8AACOKwAAsCcAAJ4WAAA8GQAAyDcAADIoAACUJQAAahgAAHwVAAAQNgAAniUAAJAkAAB2GwAAhBwAAEQ0AAASJQAATCcAAGYXAACMFAAApDMAAMIkAAC4JAAArhUAAHwVAABQMgAA/iQAAAAjAAAKHgAAwBcAALZTAACoFgAAyt8AADSZAADyOgAAUBkAAJ4+AABK0wAAVJwAAAIXAABMGAAAXjgAACQTAADSzQAAvJMAAKoUAACkFQAAzjYAANwUAABizwAAVIMAAFISAAAYFQAA6jMAANARAAA6xQAA5IQAAKoUAADYEwAAjjAAAPQQAAASuwAAvHoAALoTAACMFAAAii8AABgQAAB8dAAAUDwAAOghAAAQLAAAsiAAALRGAADYJwAAQC4AAIQhAADwKAAALh0AAFQ9AAA0IQAA+DkAAAwcAADQJQAABh0AAKQ4AADoHAAA8DIAAHQdAACcJwAAchoAAARCAACIHQAAmDAAAFgbAAAEJAAAHhkAAPw6AAB8GgAAsCIAAEIYAACkOAAAYBgAAEAuAAD4GwAAXCEAAH4YAABMNgAAqBYAAJgSAAC4PQAAmCYAAGgpAAAgFwAAyjUAANoRAADcDwAAbDkAAHgjAAAcJQAAQBoAAD4rAACSDgAAiA4AANA5AABcIQAAOCIAAAAUAABCLAAAog0AADwPAABQNwAAyB4AAIAgAACUFgAAligAALIMAAD8DQAASCEAAFg0AADcHgAA3BQAAK4pAAA6DAAAvAwAADA0AABwIQAAJBMAAHomAACENQAAymwAAAI/AADQFgAABiIAABYhAACAEQAAYDsAAHAwAABKYAAAkkAAAOwsAACCHgAAkh0AALQPAACcMQAAsCwAABodAABeOAAA0C8AAC4dAADaGwAAjA8AABguAAAwKgAAIlYAABJDAAAgEgAA7hsAAKoZAABwDQAA/CsAABQoAADSUAAAVjsAADARAACOHAAAjhcAABwMAADMKQAAqBYAAHQ2AAA8IwAAFisAAPIcAAAmIAAAEiAAANYpAAAkEwAACGEAALgfAACSJwAAwhoAAAYdAAAqHAAAiiUAANARAADIWgAAZB4AAGIlAABuGQAAAhwAAJYZAABaIwAA9BAAAORXAAC0HgAA1iQAABoYAABKGgAAQhgAAD4hAACoEQAAiFQAAJgcAAAeIwAAPhcAAPYYAACKFgAAIh8AAKw6AADwPAAALFABAHX9AAB6RAAAFEsAAKlpAABsNAAA0DkAAGw9AQDN/wAA9kAAAHBEAABdTAAACDQAAEw2AAAsNwEA5eIAAD41AAA8PAAAYUMAADAvAADIMgAArEMBAAXNAAAeMgAAzD0AAElHAACYNQAAwDUAANxtAQDttwAA/i4AAMA/AABhQwAA2DEAADgxAAC8OAEA5ckAAF44AAA0NQAAqVAAABQyAAAcLwAAHEIBAF22AAB6KwAA8DcAAKVAAADsMQAALDMAANRNAQDttwAACi0AAKw6AAA1QgAAWC8AAHAwAACMJwEAVa8AAA==",
          "dtype": "i4"
         },
         "y0": " ",
         "yaxis": "y"
        }
       ],
       "layout": {
        "boxmode": "group",
        "legend": {
         "tracegroupgap": 0
        },
        "template": {
         "data": {
          "bar": [
           {
            "error_x": {
             "color": "#2a3f5f"
            },
            "error_y": {
             "color": "#2a3f5f"
            },
            "marker": {
             "line": {
              "color": "#E5ECF6",
              "width": 0.5
             },
             "pattern": {
              "fillmode": "overlay",
              "size": 10,
              "solidity": 0.2
             }
            },
            "type": "bar"
           }
          ],
          "barpolar": [
           {
            "marker": {
             "line": {
              "color": "#E5ECF6",
              "width": 0.5
             },
             "pattern": {
              "fillmode": "overlay",
              "size": 10,
              "solidity": 0.2
             }
            },
            "type": "barpolar"
           }
          ],
          "carpet": [
           {
            "aaxis": {
             "endlinecolor": "#2a3f5f",
             "gridcolor": "white",
             "linecolor": "white",
             "minorgridcolor": "white",
             "startlinecolor": "#2a3f5f"
            },
            "baxis": {
             "endlinecolor": "#2a3f5f",
             "gridcolor": "white",
             "linecolor": "white",
             "minorgridcolor": "white",
             "startlinecolor": "#2a3f5f"
            },
            "type": "carpet"
           }
          ],
          "choropleth": [
           {
            "colorbar": {
             "outlinewidth": 0,
             "ticks": ""
            },
            "type": "choropleth"
           }
          ],
          "contour": [
           {
            "colorbar": {
             "outlinewidth": 0,
             "ticks": ""
            },
            "colorscale": [
             [
              0,
              "#0d0887"
             ],
             [
              0.1111111111111111,
              "#46039f"
             ],
             [
              0.2222222222222222,
              "#7201a8"
             ],
             [
              0.3333333333333333,
              "#9c179e"
             ],
             [
              0.4444444444444444,
              "#bd3786"
             ],
             [
              0.5555555555555556,
              "#d8576b"
             ],
             [
              0.6666666666666666,
              "#ed7953"
             ],
             [
              0.7777777777777778,
              "#fb9f3a"
             ],
             [
              0.8888888888888888,
              "#fdca26"
             ],
             [
              1,
              "#f0f921"
             ]
            ],
            "type": "contour"
           }
          ],
          "contourcarpet": [
           {
            "colorbar": {
             "outlinewidth": 0,
             "ticks": ""
            },
            "type": "contourcarpet"
           }
          ],
          "heatmap": [
           {
            "colorbar": {
             "outlinewidth": 0,
             "ticks": ""
            },
            "colorscale": [
             [
              0,
              "#0d0887"
             ],
             [
              0.1111111111111111,
              "#46039f"
             ],
             [
              0.2222222222222222,
              "#7201a8"
             ],
             [
              0.3333333333333333,
              "#9c179e"
             ],
             [
              0.4444444444444444,
              "#bd3786"
             ],
             [
              0.5555555555555556,
              "#d8576b"
             ],
             [
              0.6666666666666666,
              "#ed7953"
             ],
             [
              0.7777777777777778,
              "#fb9f3a"
             ],
             [
              0.8888888888888888,
              "#fdca26"
             ],
             [
              1,
              "#f0f921"
             ]
            ],
            "type": "heatmap"
           }
          ],
          "histogram": [
           {
            "marker": {
             "pattern": {
              "fillmode": "overlay",
              "size": 10,
              "solidity": 0.2
             }
            },
            "type": "histogram"
           }
          ],
          "histogram2d": [
           {
            "colorbar": {
             "outlinewidth": 0,
             "ticks": ""
            },
            "colorscale": [
             [
              0,
              "#0d0887"
             ],
             [
              0.1111111111111111,
              "#46039f"
             ],
             [
              0.2222222222222222,
              "#7201a8"
             ],
             [
              0.3333333333333333,
              "#9c179e"
             ],
             [
              0.4444444444444444,
              "#bd3786"
             ],
             [
              0.5555555555555556,
              "#d8576b"
             ],
             [
              0.6666666666666666,
              "#ed7953"
             ],
             [
              0.7777777777777778,
              "#fb9f3a"
             ],
             [
              0.8888888888888888,
              "#fdca26"
             ],
             [
              1,
              "#f0f921"
             ]
            ],
            "type": "histogram2d"
           }
          ],
          "histogram2dcontour": [
           {
            "colorbar": {
             "outlinewidth": 0,
             "ticks": ""
            },
            "colorscale": [
             [
              0,
              "#0d0887"
             ],
             [
              0.1111111111111111,
              "#46039f"
             ],
             [
              0.2222222222222222,
              "#7201a8"
             ],
             [
              0.3333333333333333,
              "#9c179e"
             ],
             [
              0.4444444444444444,
              "#bd3786"
             ],
             [
              0.5555555555555556,
              "#d8576b"
             ],
             [
              0.6666666666666666,
              "#ed7953"
             ],
             [
              0.7777777777777778,
              "#fb9f3a"
             ],
             [
              0.8888888888888888,
              "#fdca26"
             ],
             [
              1,
              "#f0f921"
             ]
            ],
            "type": "histogram2dcontour"
           }
          ],
          "mesh3d": [
           {
            "colorbar": {
             "outlinewidth": 0,
             "ticks": ""
            },
            "type": "mesh3d"
           }
          ],
          "parcoords": [
           {
            "line": {
             "colorbar": {
              "outlinewidth": 0,
              "ticks": ""
             }
            },
            "type": "parcoords"
           }
          ],
          "pie": [
           {
            "automargin": true,
            "type": "pie"
           }
          ],
          "scatter": [
           {
            "fillpattern": {
             "fillmode": "overlay",
             "size": 10,
             "solidity": 0.2
            },
            "type": "scatter"
           }
          ],
          "scatter3d": [
           {
            "line": {
             "colorbar": {
              "outlinewidth": 0,
              "ticks": ""
             }
            },
            "marker": {
             "colorbar": {
              "outlinewidth": 0,
              "ticks": ""
             }
            },
            "type": "scatter3d"
           }
          ],
          "scattercarpet": [
           {
            "marker": {
             "colorbar": {
              "outlinewidth": 0,
              "ticks": ""
             }
            },
            "type": "scattercarpet"
           }
          ],
          "scattergeo": [
           {
            "marker": {
             "colorbar": {
              "outlinewidth": 0,
              "ticks": ""
             }
            },
            "type": "scattergeo"
           }
          ],
          "scattergl": [
           {
            "marker": {
             "colorbar": {
              "outlinewidth": 0,
              "ticks": ""
             }
            },
            "type": "scattergl"
           }
          ],
          "scattermap": [
           {
            "marker": {
             "colorbar": {
              "outlinewidth": 0,
              "ticks": ""
             }
            },
            "type": "scattermap"
           }
          ],
          "scattermapbox": [
           {
            "marker": {
             "colorbar": {
              "outlinewidth": 0,
              "ticks": ""
             }
            },
            "type": "scattermapbox"
           }
          ],
          "scatterpolar": [
           {
            "marker": {
             "colorbar": {
              "outlinewidth": 0,
              "ticks": ""
             }
            },
            "type": "scatterpolar"
           }
          ],
          "scatterpolargl": [
           {
            "marker": {
             "colorbar": {
              "outlinewidth": 0,
              "ticks": ""
             }
            },
            "type": "scatterpolargl"
           }
          ],
          "scatterternary": [
           {
            "marker": {
             "colorbar": {
              "outlinewidth": 0,
              "ticks": ""
             }
            },
            "type": "scatterternary"
           }
          ],
          "surface": [
           {
            "colorbar": {
             "outlinewidth": 0,
             "ticks": ""
            },
            "colorscale": [
             [
              0,
              "#0d0887"
             ],
             [
              0.1111111111111111,
              "#46039f"
             ],
             [
              0.2222222222222222,
              "#7201a8"
             ],
             [
              0.3333333333333333,
              "#9c179e"
             ],
             [
              0.4444444444444444,
              "#bd3786"
             ],
             [
              0.5555555555555556,
              "#d8576b"
             ],
             [
              0.6666666666666666,
              "#ed7953"
             ],
             [
              0.7777777777777778,
              "#fb9f3a"
             ],
             [
              0.8888888888888888,
              "#fdca26"
             ],
             [
              1,
              "#f0f921"
             ]
            ],
            "type": "surface"
           }
          ],
          "table": [
           {
            "cells": {
             "fill": {
              "color": "#EBF0F8"
             },
             "line": {
              "color": "white"
             }
            },
            "header": {
             "fill": {
              "color": "#C8D4E3"
             },
             "line": {
              "color": "white"
             }
            },
            "type": "table"
           }
          ]
         },
         "layout": {
          "annotationdefaults": {
           "arrowcolor": "#2a3f5f",
           "arrowhead": 0,
           "arrowwidth": 1
          },
          "autotypenumbers": "strict",
          "coloraxis": {
           "colorbar": {
            "outlinewidth": 0,
            "ticks": ""
           }
          },
          "colorscale": {
           "diverging": [
            [
             0,
             "#8e0152"
            ],
            [
             0.1,
             "#c51b7d"
            ],
            [
             0.2,
             "#de77ae"
            ],
            [
             0.3,
             "#f1b6da"
            ],
            [
             0.4,
             "#fde0ef"
            ],
            [
             0.5,
             "#f7f7f7"
            ],
            [
             0.6,
             "#e6f5d0"
            ],
            [
             0.7,
             "#b8e186"
            ],
            [
             0.8,
             "#7fbc41"
            ],
            [
             0.9,
             "#4d9221"
            ],
            [
             1,
             "#276419"
            ]
           ],
           "sequential": [
            [
             0,
             "#0d0887"
            ],
            [
             0.1111111111111111,
             "#46039f"
            ],
            [
             0.2222222222222222,
             "#7201a8"
            ],
            [
             0.3333333333333333,
             "#9c179e"
            ],
            [
             0.4444444444444444,
             "#bd3786"
            ],
            [
             0.5555555555555556,
             "#d8576b"
            ],
            [
             0.6666666666666666,
             "#ed7953"
            ],
            [
             0.7777777777777778,
             "#fb9f3a"
            ],
            [
             0.8888888888888888,
             "#fdca26"
            ],
            [
             1,
             "#f0f921"
            ]
           ],
           "sequentialminus": [
            [
             0,
             "#0d0887"
            ],
            [
             0.1111111111111111,
             "#46039f"
            ],
            [
             0.2222222222222222,
             "#7201a8"
            ],
            [
             0.3333333333333333,
             "#9c179e"
            ],
            [
             0.4444444444444444,
             "#bd3786"
            ],
            [
             0.5555555555555556,
             "#d8576b"
            ],
            [
             0.6666666666666666,
             "#ed7953"
            ],
            [
             0.7777777777777778,
             "#fb9f3a"
            ],
            [
             0.8888888888888888,
             "#fdca26"
            ],
            [
             1,
             "#f0f921"
            ]
           ]
          },
          "colorway": [
           "#636efa",
           "#EF553B",
           "#00cc96",
           "#ab63fa",
           "#FFA15A",
           "#19d3f3",
           "#FF6692",
           "#B6E880",
           "#FF97FF",
           "#FECB52"
          ],
          "font": {
           "color": "#2a3f5f"
          },
          "geo": {
           "bgcolor": "white",
           "lakecolor": "white",
           "landcolor": "#E5ECF6",
           "showlakes": true,
           "showland": true,
           "subunitcolor": "white"
          },
          "hoverlabel": {
           "align": "left"
          },
          "hovermode": "closest",
          "mapbox": {
           "style": "light"
          },
          "paper_bgcolor": "white",
          "plot_bgcolor": "#E5ECF6",
          "polar": {
           "angularaxis": {
            "gridcolor": "white",
            "linecolor": "white",
            "ticks": ""
           },
           "bgcolor": "#E5ECF6",
           "radialaxis": {
            "gridcolor": "white",
            "linecolor": "white",
            "ticks": ""
           }
          },
          "scene": {
           "xaxis": {
            "backgroundcolor": "#E5ECF6",
            "gridcolor": "white",
            "gridwidth": 2,
            "linecolor": "white",
            "showbackground": true,
            "ticks": "",
            "zerolinecolor": "white"
           },
           "yaxis": {
            "backgroundcolor": "#E5ECF6",
            "gridcolor": "white",
            "gridwidth": 2,
            "linecolor": "white",
            "showbackground": true,
            "ticks": "",
            "zerolinecolor": "white"
           },
           "zaxis": {
            "backgroundcolor": "#E5ECF6",
            "gridcolor": "white",
            "gridwidth": 2,
            "linecolor": "white",
            "showbackground": true,
            "ticks": "",
            "zerolinecolor": "white"
           }
          },
          "shapedefaults": {
           "line": {
            "color": "#2a3f5f"
           }
          },
          "ternary": {
           "aaxis": {
            "gridcolor": "white",
            "linecolor": "white",
            "ticks": ""
           },
           "baxis": {
            "gridcolor": "white",
            "linecolor": "white",
            "ticks": ""
           },
           "bgcolor": "#E5ECF6",
           "caxis": {
            "gridcolor": "white",
            "linecolor": "white",
            "ticks": ""
           }
          },
          "title": {
           "x": 0.05
          },
          "xaxis": {
           "automargin": true,
           "gridcolor": "white",
           "linecolor": "white",
           "ticks": "",
           "title": {
            "standoff": 15
           },
           "zerolinecolor": "white",
           "zerolinewidth": 2
          },
          "yaxis": {
           "automargin": true,
           "gridcolor": "white",
           "linecolor": "white",
           "ticks": "",
           "title": {
            "standoff": 15
           },
           "zerolinecolor": "white",
           "zerolinewidth": 2
          }
         }
        },
        "title": {
         "text": "TCA Distribution by Affordability Tier"
        },
        "xaxis": {
         "anchor": "y",
         "domain": [
          0,
          1
         ],
         "title": {
          "text": "Affordability_Tier"
         }
        },
        "yaxis": {
         "anchor": "x",
         "domain": [
          0,
          1
         ],
         "title": {
          "text": "TCA"
         }
        }
       }
      }
     },
     "metadata": {},
     "output_type": "display_data"
    }
   ],
   "source": [
    "# Visualizing TCA by Affordability Tier\n",
    "fig = px.box(df, x='Affordability_Tier', y='TCA', title='TCA Distribution by Affordability Tier')\n",
    "fig.show()"
   ]
  },
  {
   "cell_type": "markdown",
   "id": "4c9e9b53",
   "metadata": {},
   "source": [
    "Saving Clean Data"
   ]
  },
  {
   "cell_type": "code",
   "execution_count": 12,
   "id": "d453bda9",
   "metadata": {},
   "outputs": [],
   "source": [
    "#df.to_csv('cleaned_education_costs.csv', index=False)"
   ]
  },
  {
   "cell_type": "markdown",
   "id": "5593a3b9",
   "metadata": {},
   "source": [
    "Feature engineering (scaling numeric values, encoding categories)"
   ]
  },
  {
   "cell_type": "code",
   "execution_count": 13,
   "id": "50116f12",
   "metadata": {},
   "outputs": [],
   "source": [
    "from sklearn.model_selection import train_test_split\n",
    "from sklearn.preprocessing import StandardScaler, OneHotEncoder\n",
    "from sklearn.compose import ColumnTransformer\n",
    "from sklearn.pipeline import Pipeline\n",
    "\n",
    "# Select features and targets\n",
    "features = ['Country', 'City', 'Level', 'Tuition_USD', 'Rent_USD', 'Insurance_USD']\n",
    "target_reg = 'TCA'\n",
    "target_cls = 'Affordability_Tier'\n",
    "\n",
    "X = df[features]\n",
    "y_reg = df[target_reg]\n",
    "y_cls = df[target_cls]\n",
    "\n",
    "# Split data\n",
    "X_train, X_test, y_train_reg, y_test_reg = train_test_split(X, y_reg, test_size=0.2, random_state=42)\n",
    "_, _, y_train_cls, y_test_cls = train_test_split(X, y_cls, test_size=0.2, random_state=42)\n",
    "\n",
    "# Define transformers\n",
    "cat_cols = ['Country', 'City', 'Level']\n",
    "num_cols = ['Tuition_USD', 'Rent_USD', 'Insurance_USD']\n",
    "\n",
    "preprocessor = ColumnTransformer([\n",
    "    (\"num\", StandardScaler(), num_cols),\n",
    "    (\"cat\", OneHotEncoder(handle_unknown=\"ignore\"), cat_cols)\n",
    "])\n"
   ]
  },
  {
   "cell_type": "markdown",
   "id": "392e2fae",
   "metadata": {},
   "source": [
    "Training a random forest regressor to predict TCA"
   ]
  },
  {
   "cell_type": "code",
   "execution_count": 14,
   "id": "649b9052",
   "metadata": {},
   "outputs": [
    {
     "name": "stdout",
     "output_type": "stream",
     "text": [
      "MAE: 447.05060439560435\n",
      "RMSE: 673.0528516725157\n",
      "R²: 0.9989553938317841\n"
     ]
    }
   ],
   "source": [
    "from sklearn.ensemble import RandomForestRegressor\n",
    "from sklearn.metrics import mean_absolute_error, mean_squared_error, r2_score\n",
    "\n",
    "reg_pipeline = Pipeline([\n",
    "    (\"preprocessing\", preprocessor),\n",
    "    (\"regressor\", RandomForestRegressor(n_estimators=100, random_state=42))\n",
    "])\n",
    "\n",
    "reg_pipeline.fit(X_train, y_train_reg)\n",
    "y_pred_reg = reg_pipeline.predict(X_test)\n",
    "\n",
    "print(\"MAE:\", mean_absolute_error(y_test_reg, y_pred_reg))\n",
    "print(\"RMSE:\", np.sqrt(mean_squared_error(y_test_reg, y_pred_reg)))\n",
    "print(\"R²:\", r2_score(y_test_reg, y_pred_reg))\n"
   ]
  },
  {
   "cell_type": "markdown",
   "id": "1a7f91c2",
   "metadata": {},
   "source": [
    "Training a classifier to label destinations as Low, Medium, or High cost"
   ]
  },
  {
   "cell_type": "code",
   "execution_count": 15,
   "id": "17845228",
   "metadata": {},
   "outputs": [
    {
     "name": "stdout",
     "output_type": "stream",
     "text": [
      "Accuracy: 0.9285714285714286\n",
      "F1 Score (macro): 0.9296183759142177\n"
     ]
    }
   ],
   "source": [
    "from sklearn.ensemble import RandomForestClassifier\n",
    "from sklearn.metrics import accuracy_score, f1_score\n",
    "\n",
    "cls_pipeline = Pipeline([\n",
    "    (\"preprocessing\", preprocessor),\n",
    "    (\"classifier\", RandomForestClassifier(n_estimators=100, random_state=42))\n",
    "])\n",
    "\n",
    "cls_pipeline.fit(X_train, y_train_cls)\n",
    "y_pred_cls = cls_pipeline.predict(X_test)\n",
    "\n",
    "print(\"Accuracy:\", accuracy_score(y_test_cls, y_pred_cls))\n",
    "print(\"F1 Score (macro):\", f1_score(y_test_cls, y_pred_cls, average='macro'))\n"
   ]
  },
  {
   "cell_type": "markdown",
   "id": "1fdf8a6e",
   "metadata": {},
   "source": [
    "Evaluating model performance with metrics and charts"
   ]
  },
  {
   "cell_type": "markdown",
   "id": "bdb58aa7",
   "metadata": {},
   "source": [
    "Confusion Matrix"
   ]
  },
  {
   "cell_type": "code",
   "execution_count": 16,
   "id": "f0152860",
   "metadata": {},
   "outputs": [
    {
     "data": {
      "image/png": "[encoded data removed]",
      "text/plain": [
       "<Figure size 640x480 with 2 Axes>"
      ]
     },
     "metadata": {},
     "output_type": "display_data"
    }
   ],
   "source": [
    "from sklearn.metrics import confusion_matrix, ConfusionMatrixDisplay\n",
    "\n",
    "cm = confusion_matrix(y_test_cls, y_pred_cls)\n",
    "disp = ConfusionMatrixDisplay(confusion_matrix=cm, display_labels=cls_pipeline.named_steps['classifier'].classes_)\n",
    "disp.plot(cmap=\"Blues\")\n",
    "plt.title(\"Confusion Matrix\")\n",
    "plt.show()\n"
   ]
  },
  {
   "cell_type": "markdown",
   "id": "cd836fe7",
   "metadata": {},
   "source": [
    "ROC-Curve"
   ]
  },
  {
   "cell_type": "code",
   "execution_count": 17,
   "id": "1a97799b",
   "metadata": {},
   "outputs": [
    {
     "data": {
      "image/png": "[encoded data removed]",
      "text/plain": [
       "<Figure size 640x480 with 1 Axes>"
      ]
     },
     "metadata": {},
     "output_type": "display_data"
    },
    {
     "data": {
      "image/png": "[encoded data removed]",
      "text/plain": [
       "<Figure size 640x480 with 1 Axes>"
      ]
     },
     "metadata": {},
     "output_type": "display_data"
    },
    {
     "data": {
      "image/png": "[encoded data removed]",
      "text/plain": [
       "<Figure size 640x480 with 1 Axes>"
      ]
     },
     "metadata": {},
     "output_type": "display_data"
    }
   ],
   "source": [
    "from sklearn.preprocessing import label_binarize\n",
    "from sklearn.metrics import RocCurveDisplay\n",
    "\n",
    "y_score = cls_pipeline.predict_proba(X_test)\n",
    "y_test_bin = label_binarize(y_test_cls, classes=cls_pipeline.named_steps['classifier'].classes_)\n",
    "\n",
    "for i, class_name in enumerate(cls_pipeline.named_steps['classifier'].classes_):\n",
    "    RocCurveDisplay.from_predictions(y_test_bin[:, i], y_score[:, i], name=f\"Class: {class_name}\")\n",
    "plt.title(\"ROC Curve - One-vs-Rest\")\n",
    "plt.show()\n"
   ]
  },
  {
   "cell_type": "markdown",
   "id": "53dea387",
   "metadata": {},
   "source": [
    "Visualizing clustering using PCA"
   ]
  },
  {
   "cell_type": "code",
   "execution_count": null,
   "id": "cf2f2c49",
   "metadata": {},
   "outputs": [
    {
     "name": "stderr",
     "output_type": "stream",
     "text": [
      "c:\\Users\\ABCD\\anaconda3\\Lib\\site-packages\\sklearn\\cluster\\_kmeans.py:1412: FutureWarning:\n",
      "\n",
      "The default value of `n_init` will change from 10 to 'auto' in 1.4. Set the value of `n_init` explicitly to suppress the warning\n",
      "\n"
     ]
    },
    {
     "ename": "AttributeError",
     "evalue": "'NoneType' object has no attribute 'split'",
     "output_type": "error",
     "traceback": [
      "\u001b[1;31m---------------------------------------------------------------------------\u001b[0m",
      "\u001b[1;31mAttributeError\u001b[0m                            Traceback (most recent call last)",
      "Cell \u001b[1;32mIn[18], line 10\u001b[0m\n\u001b[0;32m      8\u001b[0m X_scaled \u001b[38;5;241m=\u001b[39m preprocessor\u001b[38;5;241m.\u001b[39mfit_transform(X)\n\u001b[0;32m      9\u001b[0m kmeans \u001b[38;5;241m=\u001b[39m KMeans(n_clusters\u001b[38;5;241m=\u001b[39m\u001b[38;5;241m3\u001b[39m, random_state\u001b[38;5;241m=\u001b[39m\u001b[38;5;241m42\u001b[39m)\n\u001b[1;32m---> 10\u001b[0m clusters \u001b[38;5;241m=\u001b[39m kmeans\u001b[38;5;241m.\u001b[39mfit_predict(X_scaled)\n\u001b[0;32m     12\u001b[0m pca \u001b[38;5;241m=\u001b[39m PCA(n_components\u001b[38;5;241m=\u001b[39m\u001b[38;5;241m2\u001b[39m)\n\u001b[0;32m     13\u001b[0m reduced \u001b[38;5;241m=\u001b[39m pca\u001b[38;5;241m.\u001b[39mfit_transform(X_scaled)\n",
      "File \u001b[1;32mc:\\Users\\ABCD\\anaconda3\\Lib\\site-packages\\sklearn\\cluster\\_kmeans.py:1068\u001b[0m, in \u001b[0;36m_BaseKMeans.fit_predict\u001b[1;34m(self, X, y, sample_weight)\u001b[0m\n\u001b[0;32m   1045\u001b[0m \u001b[38;5;28;01mdef\u001b[39;00m \u001b[38;5;21mfit_predict\u001b[39m(\u001b[38;5;28mself\u001b[39m, X, y\u001b[38;5;241m=\u001b[39m\u001b[38;5;28;01mNone\u001b[39;00m, sample_weight\u001b[38;5;241m=\u001b[39m\u001b[38;5;28;01mNone\u001b[39;00m):\n\u001b[0;32m   1046\u001b[0m \u001b[38;5;250m    \u001b[39m\u001b[38;5;124;03m\"\"\"Compute cluster centers and predict cluster index for each sample.\u001b[39;00m\n\u001b[0;32m   1047\u001b[0m \n\u001b[0;32m   1048\u001b[0m \u001b[38;5;124;03m    Convenience method; equivalent to calling fit(X) followed by\u001b[39;00m\n\u001b[1;32m   (...)\u001b[0m\n\u001b[0;32m   1066\u001b[0m \u001b[38;5;124;03m        Index of the cluster each sample belongs to.\u001b[39;00m\n\u001b[0;32m   1067\u001b[0m \u001b[38;5;124;03m    \"\"\"\u001b[39;00m\n\u001b[1;32m-> 1068\u001b[0m     \u001b[38;5;28;01mreturn\u001b[39;00m \u001b[38;5;28mself\u001b[39m\u001b[38;5;241m.\u001b[39mfit(X, sample_weight\u001b[38;5;241m=\u001b[39msample_weight)\u001b[38;5;241m.\u001b[39mlabels_\n",
      "File \u001b[1;32mc:\\Users\\ABCD\\anaconda3\\Lib\\site-packages\\sklearn\\base.py:1151\u001b[0m, in \u001b[0;36m_fit_context.<locals>.decorator.<locals>.wrapper\u001b[1;34m(estimator, *args, **kwargs)\u001b[0m\n\u001b[0;32m   1144\u001b[0m     estimator\u001b[38;5;241m.\u001b[39m_validate_params()\n\u001b[0;32m   1146\u001b[0m \u001b[38;5;28;01mwith\u001b[39;00m config_context(\n\u001b[0;32m   1147\u001b[0m     skip_parameter_validation\u001b[38;5;241m=\u001b[39m(\n\u001b[0;32m   1148\u001b[0m         prefer_skip_nested_validation \u001b[38;5;129;01mor\u001b[39;00m global_skip_validation\n\u001b[0;32m   1149\u001b[0m     )\n\u001b[0;32m   1150\u001b[0m ):\n\u001b[1;32m-> 1151\u001b[0m     \u001b[38;5;28;01mreturn\u001b[39;00m fit_method(estimator, \u001b[38;5;241m*\u001b[39margs, \u001b[38;5;241m*\u001b[39m\u001b[38;5;241m*\u001b[39mkwargs)\n",
      "File \u001b[1;32mc:\\Users\\ABCD\\anaconda3\\Lib\\site-packages\\sklearn\\cluster\\_kmeans.py:1526\u001b[0m, in \u001b[0;36mKMeans.fit\u001b[1;34m(self, X, y, sample_weight)\u001b[0m\n\u001b[0;32m   1523\u001b[0m     \u001b[38;5;28mprint\u001b[39m(\u001b[38;5;124m\"\u001b[39m\u001b[38;5;124mInitialization complete\u001b[39m\u001b[38;5;124m\"\u001b[39m)\n\u001b[0;32m   1525\u001b[0m \u001b[38;5;66;03m# run a k-means once\u001b[39;00m\n\u001b[1;32m-> 1526\u001b[0m labels, inertia, centers, n_iter_ \u001b[38;5;241m=\u001b[39m kmeans_single(\n\u001b[0;32m   1527\u001b[0m     X,\n\u001b[0;32m   1528\u001b[0m     sample_weight,\n\u001b[0;32m   1529\u001b[0m     centers_init,\n\u001b[0;32m   1530\u001b[0m     max_iter\u001b[38;5;241m=\u001b[39m\u001b[38;5;28mself\u001b[39m\u001b[38;5;241m.\u001b[39mmax_iter,\n\u001b[0;32m   1531\u001b[0m     verbose\u001b[38;5;241m=\u001b[39m\u001b[38;5;28mself\u001b[39m\u001b[38;5;241m.\u001b[39mverbose,\n\u001b[0;32m   1532\u001b[0m     tol\u001b[38;5;241m=\u001b[39m\u001b[38;5;28mself\u001b[39m\u001b[38;5;241m.\u001b[39m_tol,\n\u001b[0;32m   1533\u001b[0m     n_threads\u001b[38;5;241m=\u001b[39m\u001b[38;5;28mself\u001b[39m\u001b[38;5;241m.\u001b[39m_n_threads,\n\u001b[0;32m   1534\u001b[0m )\n\u001b[0;32m   1536\u001b[0m \u001b[38;5;66;03m# determine if these results are the best so far\u001b[39;00m\n\u001b[0;32m   1537\u001b[0m \u001b[38;5;66;03m# we chose a new run if it has a better inertia and the clustering is\u001b[39;00m\n\u001b[0;32m   1538\u001b[0m \u001b[38;5;66;03m# different from the best so far (it's possible that the inertia is\u001b[39;00m\n\u001b[0;32m   1539\u001b[0m \u001b[38;5;66;03m# slightly better even if the clustering is the same with potentially\u001b[39;00m\n\u001b[0;32m   1540\u001b[0m \u001b[38;5;66;03m# permuted labels, due to rounding errors)\u001b[39;00m\n\u001b[0;32m   1541\u001b[0m \u001b[38;5;28;01mif\u001b[39;00m best_inertia \u001b[38;5;129;01mis\u001b[39;00m \u001b[38;5;28;01mNone\u001b[39;00m \u001b[38;5;129;01mor\u001b[39;00m (\n\u001b[0;32m   1542\u001b[0m     inertia \u001b[38;5;241m<\u001b[39m best_inertia\n\u001b[0;32m   1543\u001b[0m     \u001b[38;5;129;01mand\u001b[39;00m \u001b[38;5;129;01mnot\u001b[39;00m _is_same_clustering(labels, best_labels, \u001b[38;5;28mself\u001b[39m\u001b[38;5;241m.\u001b[39mn_clusters)\n\u001b[0;32m   1544\u001b[0m ):\n",
      "File \u001b[1;32mc:\\Users\\ABCD\\anaconda3\\Lib\\site-packages\\sklearn\\cluster\\_kmeans.py:688\u001b[0m, in \u001b[0;36m_kmeans_single_lloyd\u001b[1;34m(X, sample_weight, centers_init, max_iter, verbose, tol, n_threads)\u001b[0m\n\u001b[0;32m    684\u001b[0m strict_convergence \u001b[38;5;241m=\u001b[39m \u001b[38;5;28;01mFalse\u001b[39;00m\n\u001b[0;32m    686\u001b[0m \u001b[38;5;66;03m# Threadpoolctl context to limit the number of threads in second level of\u001b[39;00m\n\u001b[0;32m    687\u001b[0m \u001b[38;5;66;03m# nested parallelism (i.e. BLAS) to avoid oversubscription.\u001b[39;00m\n\u001b[1;32m--> 688\u001b[0m \u001b[38;5;28;01mwith\u001b[39;00m threadpool_limits(limits\u001b[38;5;241m=\u001b[39m\u001b[38;5;241m1\u001b[39m, user_api\u001b[38;5;241m=\u001b[39m\u001b[38;5;124m\"\u001b[39m\u001b[38;5;124mblas\u001b[39m\u001b[38;5;124m\"\u001b[39m):\n\u001b[0;32m    689\u001b[0m     \u001b[38;5;28;01mfor\u001b[39;00m i \u001b[38;5;129;01min\u001b[39;00m \u001b[38;5;28mrange\u001b[39m(max_iter):\n\u001b[0;32m    690\u001b[0m         lloyd_iter(\n\u001b[0;32m    691\u001b[0m             X,\n\u001b[0;32m    692\u001b[0m             sample_weight,\n\u001b[1;32m   (...)\u001b[0m\n\u001b[0;32m    698\u001b[0m             n_threads,\n\u001b[0;32m    699\u001b[0m         )\n",
      "File \u001b[1;32mc:\\Users\\ABCD\\anaconda3\\Lib\\site-packages\\sklearn\\utils\\fixes.py:72\u001b[0m, in \u001b[0;36mthreadpool_limits\u001b[1;34m(limits, user_api)\u001b[0m\n\u001b[0;32m     70\u001b[0m     \u001b[38;5;28;01mreturn\u001b[39;00m controller\u001b[38;5;241m.\u001b[39mlimit(limits\u001b[38;5;241m=\u001b[39mlimits, user_api\u001b[38;5;241m=\u001b[39muser_api)\n\u001b[0;32m     71\u001b[0m \u001b[38;5;28;01melse\u001b[39;00m:\n\u001b[1;32m---> 72\u001b[0m     \u001b[38;5;28;01mreturn\u001b[39;00m threadpoolctl\u001b[38;5;241m.\u001b[39mthreadpool_limits(limits\u001b[38;5;241m=\u001b[39mlimits, user_api\u001b[38;5;241m=\u001b[39muser_api)\n",
      "File \u001b[1;32mc:\\Users\\ABCD\\anaconda3\\Lib\\site-packages\\threadpoolctl.py:171\u001b[0m, in \u001b[0;36mthreadpool_limits.__init__\u001b[1;34m(self, limits, user_api)\u001b[0m\n\u001b[0;32m    167\u001b[0m \u001b[38;5;28;01mdef\u001b[39;00m \u001b[38;5;21m__init__\u001b[39m(\u001b[38;5;28mself\u001b[39m, limits\u001b[38;5;241m=\u001b[39m\u001b[38;5;28;01mNone\u001b[39;00m, user_api\u001b[38;5;241m=\u001b[39m\u001b[38;5;28;01mNone\u001b[39;00m):\n\u001b[0;32m    168\u001b[0m     \u001b[38;5;28mself\u001b[39m\u001b[38;5;241m.\u001b[39m_limits, \u001b[38;5;28mself\u001b[39m\u001b[38;5;241m.\u001b[39m_user_api, \u001b[38;5;28mself\u001b[39m\u001b[38;5;241m.\u001b[39m_prefixes \u001b[38;5;241m=\u001b[39m \\\n\u001b[0;32m    169\u001b[0m         \u001b[38;5;28mself\u001b[39m\u001b[38;5;241m.\u001b[39m_check_params(limits, user_api)\n\u001b[1;32m--> 171\u001b[0m     \u001b[38;5;28mself\u001b[39m\u001b[38;5;241m.\u001b[39m_original_info \u001b[38;5;241m=\u001b[39m \u001b[38;5;28mself\u001b[39m\u001b[38;5;241m.\u001b[39m_set_threadpool_limits()\n",
      "File \u001b[1;32mc:\\Users\\ABCD\\anaconda3\\Lib\\site-packages\\threadpoolctl.py:268\u001b[0m, in \u001b[0;36mthreadpool_limits._set_threadpool_limits\u001b[1;34m(self)\u001b[0m\n\u001b[0;32m    265\u001b[0m \u001b[38;5;28;01mif\u001b[39;00m \u001b[38;5;28mself\u001b[39m\u001b[38;5;241m.\u001b[39m_limits \u001b[38;5;129;01mis\u001b[39;00m \u001b[38;5;28;01mNone\u001b[39;00m:\n\u001b[0;32m    266\u001b[0m     \u001b[38;5;28;01mreturn\u001b[39;00m \u001b[38;5;28;01mNone\u001b[39;00m\n\u001b[1;32m--> 268\u001b[0m modules \u001b[38;5;241m=\u001b[39m _ThreadpoolInfo(prefixes\u001b[38;5;241m=\u001b[39m\u001b[38;5;28mself\u001b[39m\u001b[38;5;241m.\u001b[39m_prefixes,\n\u001b[0;32m    269\u001b[0m                           user_api\u001b[38;5;241m=\u001b[39m\u001b[38;5;28mself\u001b[39m\u001b[38;5;241m.\u001b[39m_user_api)\n\u001b[0;32m    270\u001b[0m \u001b[38;5;28;01mfor\u001b[39;00m module \u001b[38;5;129;01min\u001b[39;00m modules:\n\u001b[0;32m    271\u001b[0m     \u001b[38;5;66;03m# self._limits is a dict {key: num_threads} where key is either\u001b[39;00m\n\u001b[0;32m    272\u001b[0m     \u001b[38;5;66;03m# a prefix or a user_api. If a module matches both, the limit\u001b[39;00m\n\u001b[0;32m    273\u001b[0m     \u001b[38;5;66;03m# corresponding to the prefix is chosed.\u001b[39;00m\n\u001b[0;32m    274\u001b[0m     \u001b[38;5;28;01mif\u001b[39;00m module\u001b[38;5;241m.\u001b[39mprefix \u001b[38;5;129;01min\u001b[39;00m \u001b[38;5;28mself\u001b[39m\u001b[38;5;241m.\u001b[39m_limits:\n",
      "File \u001b[1;32mc:\\Users\\ABCD\\anaconda3\\Lib\\site-packages\\threadpoolctl.py:340\u001b[0m, in \u001b[0;36m_ThreadpoolInfo.__init__\u001b[1;34m(self, user_api, prefixes, modules)\u001b[0m\n\u001b[0;32m    337\u001b[0m     \u001b[38;5;28mself\u001b[39m\u001b[38;5;241m.\u001b[39muser_api \u001b[38;5;241m=\u001b[39m [] \u001b[38;5;28;01mif\u001b[39;00m user_api \u001b[38;5;129;01mis\u001b[39;00m \u001b[38;5;28;01mNone\u001b[39;00m \u001b[38;5;28;01melse\u001b[39;00m user_api\n\u001b[0;32m    339\u001b[0m     \u001b[38;5;28mself\u001b[39m\u001b[38;5;241m.\u001b[39mmodules \u001b[38;5;241m=\u001b[39m []\n\u001b[1;32m--> 340\u001b[0m     \u001b[38;5;28mself\u001b[39m\u001b[38;5;241m.\u001b[39m_load_modules()\n\u001b[0;32m    341\u001b[0m     \u001b[38;5;28mself\u001b[39m\u001b[38;5;241m.\u001b[39m_warn_if_incompatible_openmp()\n\u001b[0;32m    342\u001b[0m \u001b[38;5;28;01melse\u001b[39;00m:\n",
      "File \u001b[1;32mc:\\Users\\ABCD\\anaconda3\\Lib\\site-packages\\threadpoolctl.py:373\u001b[0m, in \u001b[0;36m_ThreadpoolInfo._load_modules\u001b[1;34m(self)\u001b[0m\n\u001b[0;32m    371\u001b[0m     \u001b[38;5;28mself\u001b[39m\u001b[38;5;241m.\u001b[39m_find_modules_with_dyld()\n\u001b[0;32m    372\u001b[0m \u001b[38;5;28;01melif\u001b[39;00m sys\u001b[38;5;241m.\u001b[39mplatform \u001b[38;5;241m==\u001b[39m \u001b[38;5;124m\"\u001b[39m\u001b[38;5;124mwin32\u001b[39m\u001b[38;5;124m\"\u001b[39m:\n\u001b[1;32m--> 373\u001b[0m     \u001b[38;5;28mself\u001b[39m\u001b[38;5;241m.\u001b[39m_find_modules_with_enum_process_module_ex()\n\u001b[0;32m    374\u001b[0m \u001b[38;5;28;01melse\u001b[39;00m:\n\u001b[0;32m    375\u001b[0m     \u001b[38;5;28mself\u001b[39m\u001b[38;5;241m.\u001b[39m_find_modules_with_dl_iterate_phdr()\n",
      "File \u001b[1;32mc:\\Users\\ABCD\\anaconda3\\Lib\\site-packages\\threadpoolctl.py:485\u001b[0m, in \u001b[0;36m_ThreadpoolInfo._find_modules_with_enum_process_module_ex\u001b[1;34m(self)\u001b[0m\n\u001b[0;32m    482\u001b[0m         filepath \u001b[38;5;241m=\u001b[39m buf\u001b[38;5;241m.\u001b[39mvalue\n\u001b[0;32m    484\u001b[0m         \u001b[38;5;66;03m# Store the module if it is supported and selected\u001b[39;00m\n\u001b[1;32m--> 485\u001b[0m         \u001b[38;5;28mself\u001b[39m\u001b[38;5;241m.\u001b[39m_make_module_from_path(filepath)\n\u001b[0;32m    486\u001b[0m \u001b[38;5;28;01mfinally\u001b[39;00m:\n\u001b[0;32m    487\u001b[0m     kernel_32\u001b[38;5;241m.\u001b[39mCloseHandle(h_process)\n",
      "File \u001b[1;32mc:\\Users\\ABCD\\anaconda3\\Lib\\site-packages\\threadpoolctl.py:515\u001b[0m, in \u001b[0;36m_ThreadpoolInfo._make_module_from_path\u001b[1;34m(self, filepath)\u001b[0m\n\u001b[0;32m    513\u001b[0m \u001b[38;5;28;01mif\u001b[39;00m prefix \u001b[38;5;129;01min\u001b[39;00m \u001b[38;5;28mself\u001b[39m\u001b[38;5;241m.\u001b[39mprefixes \u001b[38;5;129;01mor\u001b[39;00m user_api \u001b[38;5;129;01min\u001b[39;00m \u001b[38;5;28mself\u001b[39m\u001b[38;5;241m.\u001b[39muser_api:\n\u001b[0;32m    514\u001b[0m     module_class \u001b[38;5;241m=\u001b[39m \u001b[38;5;28mglobals\u001b[39m()[module_class]\n\u001b[1;32m--> 515\u001b[0m     module \u001b[38;5;241m=\u001b[39m module_class(filepath, prefix, user_api, internal_api)\n\u001b[0;32m    516\u001b[0m     \u001b[38;5;28mself\u001b[39m\u001b[38;5;241m.\u001b[39mmodules\u001b[38;5;241m.\u001b[39mappend(module)\n",
      "File \u001b[1;32mc:\\Users\\ABCD\\anaconda3\\Lib\\site-packages\\threadpoolctl.py:606\u001b[0m, in \u001b[0;36m_Module.__init__\u001b[1;34m(self, filepath, prefix, user_api, internal_api)\u001b[0m\n\u001b[0;32m    604\u001b[0m \u001b[38;5;28mself\u001b[39m\u001b[38;5;241m.\u001b[39minternal_api \u001b[38;5;241m=\u001b[39m internal_api\n\u001b[0;32m    605\u001b[0m \u001b[38;5;28mself\u001b[39m\u001b[38;5;241m.\u001b[39m_dynlib \u001b[38;5;241m=\u001b[39m ctypes\u001b[38;5;241m.\u001b[39mCDLL(filepath, mode\u001b[38;5;241m=\u001b[39m_RTLD_NOLOAD)\n\u001b[1;32m--> 606\u001b[0m \u001b[38;5;28mself\u001b[39m\u001b[38;5;241m.\u001b[39mversion \u001b[38;5;241m=\u001b[39m \u001b[38;5;28mself\u001b[39m\u001b[38;5;241m.\u001b[39mget_version()\n\u001b[0;32m    607\u001b[0m \u001b[38;5;28mself\u001b[39m\u001b[38;5;241m.\u001b[39mnum_threads \u001b[38;5;241m=\u001b[39m \u001b[38;5;28mself\u001b[39m\u001b[38;5;241m.\u001b[39mget_num_threads()\n\u001b[0;32m    608\u001b[0m \u001b[38;5;28mself\u001b[39m\u001b[38;5;241m.\u001b[39m_get_extra_info()\n",
      "File \u001b[1;32mc:\\Users\\ABCD\\anaconda3\\Lib\\site-packages\\threadpoolctl.py:646\u001b[0m, in \u001b[0;36m_OpenBLASModule.get_version\u001b[1;34m(self)\u001b[0m\n\u001b[0;32m    643\u001b[0m get_config \u001b[38;5;241m=\u001b[39m \u001b[38;5;28mgetattr\u001b[39m(\u001b[38;5;28mself\u001b[39m\u001b[38;5;241m.\u001b[39m_dynlib, \u001b[38;5;124m\"\u001b[39m\u001b[38;5;124mopenblas_get_config\u001b[39m\u001b[38;5;124m\"\u001b[39m,\n\u001b[0;32m    644\u001b[0m                      \u001b[38;5;28;01mlambda\u001b[39;00m: \u001b[38;5;28;01mNone\u001b[39;00m)\n\u001b[0;32m    645\u001b[0m get_config\u001b[38;5;241m.\u001b[39mrestype \u001b[38;5;241m=\u001b[39m ctypes\u001b[38;5;241m.\u001b[39mc_char_p\n\u001b[1;32m--> 646\u001b[0m config \u001b[38;5;241m=\u001b[39m get_config()\u001b[38;5;241m.\u001b[39msplit()\n\u001b[0;32m    647\u001b[0m \u001b[38;5;28;01mif\u001b[39;00m config[\u001b[38;5;241m0\u001b[39m] \u001b[38;5;241m==\u001b[39m \u001b[38;5;124mb\u001b[39m\u001b[38;5;124m\"\u001b[39m\u001b[38;5;124mOpenBLAS\u001b[39m\u001b[38;5;124m\"\u001b[39m:\n\u001b[0;32m    648\u001b[0m     \u001b[38;5;28;01mreturn\u001b[39;00m config[\u001b[38;5;241m1\u001b[39m]\u001b[38;5;241m.\u001b[39mdecode(\u001b[38;5;124m\"\u001b[39m\u001b[38;5;124mutf-8\u001b[39m\u001b[38;5;124m\"\u001b[39m)\n",
      "\u001b[1;31mAttributeError\u001b[0m: 'NoneType' object has no attribute 'split'"
     ]
    }
   ],
   "source": [
    "from sklearn.cluster import KMeans\n",
    "from sklearn.decomposition import PCA\n",
    "\n",
    "X_scaled = preprocessor.fit_transform(X)\n",
    "kmeans = KMeans(n_clusters=3, random_state=42)\n",
    "clusters = kmeans.fit_predict(X_scaled)\n",
    "\n",
    "pca = PCA(n_components=2)\n",
    "reduced = pca.fit_transform(X_scaled)\n",
    "\n",
    "plt.figure(figsize=(8,6))\n",
    "plt.scatter(reduced[:, 0], reduced[:, 1], c=clusters, cmap='tab10')\n",
    "plt.title(\"University Clusters (PCA 2D)\")\n",
    "plt.xlabel(\"PCA Component 1\")\n",
    "plt.ylabel(\"PCA Component 2\")\n",
    "plt.colorbar(label=\"Cluster ID\")\n",
    "plt.tight_layout()\n",
    "plt.show()"
   ]
  },
  {
   "cell_type": "code",
   "execution_count": 19,
   "id": "a1a10284",
   "metadata": {},
   "outputs": [],
   "source": [
    "import os\n",
    "os.environ[\"OPENBLAS_NUM_THREADS\"] = \"1\""
   ]
  },
  {
   "cell_type": "code",
   "execution_count": null,
   "id": "08f79151",
   "metadata": {},
   "outputs": [],
   "source": []
  }
 ],
 "metadata": {
  "kernelspec": {
   "display_name": ".venv",
   "language": "python",
   "name": "python3"
  },
  "language_info": {
   "codemirror_mode": {
    "name": "ipython",
    "version": 3
   },
   "file_extension": ".py",
   "mimetype": "text/x-python",
   "name": "python",
   "nbconvert_exporter": "python",
   "pygments_lexer": "ipython3",
   "version": "3.12.2"
  }
 },
 "nbformat": 4,
 "nbformat_minor": 5
}
